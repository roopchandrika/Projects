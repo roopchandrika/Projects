{
 "cells": [
  {
   "cell_type": "markdown",
   "id": "00b261db",
   "metadata": {},
   "source": [
    "## Importing the libraries"
   ]
  },
  {
   "cell_type": "code",
   "execution_count": 1,
   "id": "3da02719",
   "metadata": {},
   "outputs": [],
   "source": [
    "import pandas as pd\n",
    "import numpy as np\n",
    "import matplotlib.pyplot as plt\n",
    "import seaborn as sns"
   ]
  },
  {
   "cell_type": "markdown",
   "id": "566710a3",
   "metadata": {},
   "source": [
    "## Read the dataset which has features and assign to X_train"
   ]
  },
  {
   "cell_type": "code",
   "execution_count": 2,
   "id": "85fc396d",
   "metadata": {},
   "outputs": [],
   "source": [
    "X_train = pd.read_csv('final_train_X')"
   ]
  },
  {
   "cell_type": "markdown",
   "id": "ff5c520e",
   "metadata": {},
   "source": [
    "## View the head of the dataset"
   ]
  },
  {
   "cell_type": "code",
   "execution_count": 3,
   "id": "0d68f63b",
   "metadata": {},
   "outputs": [
    {
     "data": {
      "text/html": [
       "<div>\n",
       "<style scoped>\n",
       "    .dataframe tbody tr th:only-of-type {\n",
       "        vertical-align: middle;\n",
       "    }\n",
       "\n",
       "    .dataframe tbody tr th {\n",
       "        vertical-align: top;\n",
       "    }\n",
       "\n",
       "    .dataframe thead th {\n",
       "        text-align: right;\n",
       "    }\n",
       "</style>\n",
       "<table border=\"1\" class=\"dataframe\">\n",
       "  <thead>\n",
       "    <tr style=\"text-align: right;\">\n",
       "      <th></th>\n",
       "      <th>age</th>\n",
       "      <th>workclass</th>\n",
       "      <th>fnlwgt</th>\n",
       "      <th>education</th>\n",
       "      <th>education_num</th>\n",
       "      <th>marital_status</th>\n",
       "      <th>occupation</th>\n",
       "      <th>relationship</th>\n",
       "      <th>race</th>\n",
       "      <th>sex</th>\n",
       "      <th>capital_gain</th>\n",
       "      <th>capital_loss</th>\n",
       "      <th>hours_per_week</th>\n",
       "      <th>native_country</th>\n",
       "    </tr>\n",
       "  </thead>\n",
       "  <tbody>\n",
       "    <tr>\n",
       "      <th>0</th>\n",
       "      <td>39</td>\n",
       "      <td>Private</td>\n",
       "      <td>147548</td>\n",
       "      <td>HS-grad</td>\n",
       "      <td>9.0</td>\n",
       "      <td>Married-civ-spouse</td>\n",
       "      <td>Craft-repair</td>\n",
       "      <td>Husband</td>\n",
       "      <td>White</td>\n",
       "      <td>Male</td>\n",
       "      <td>0.0</td>\n",
       "      <td>0.0</td>\n",
       "      <td>40</td>\n",
       "      <td>United-States</td>\n",
       "    </tr>\n",
       "    <tr>\n",
       "      <th>1</th>\n",
       "      <td>48</td>\n",
       "      <td>Private</td>\n",
       "      <td>195491</td>\n",
       "      <td>HS-grad</td>\n",
       "      <td>9.0</td>\n",
       "      <td>Divorced</td>\n",
       "      <td>Sales</td>\n",
       "      <td>Not-in-family</td>\n",
       "      <td>White</td>\n",
       "      <td>Female</td>\n",
       "      <td>0.0</td>\n",
       "      <td>0.0</td>\n",
       "      <td>30</td>\n",
       "      <td>United-States</td>\n",
       "    </tr>\n",
       "    <tr>\n",
       "      <th>2</th>\n",
       "      <td>43</td>\n",
       "      <td>Self-emp-not-inc</td>\n",
       "      <td>198096</td>\n",
       "      <td>Masters</td>\n",
       "      <td>14.0</td>\n",
       "      <td>Married-civ-spouse</td>\n",
       "      <td>Sales</td>\n",
       "      <td>Husband</td>\n",
       "      <td>White</td>\n",
       "      <td>Male</td>\n",
       "      <td>0.0</td>\n",
       "      <td>0.0</td>\n",
       "      <td>60</td>\n",
       "      <td>United-States</td>\n",
       "    </tr>\n",
       "    <tr>\n",
       "      <th>3</th>\n",
       "      <td>18</td>\n",
       "      <td>Private</td>\n",
       "      <td>280603</td>\n",
       "      <td>11th</td>\n",
       "      <td>7.0</td>\n",
       "      <td>Never-married</td>\n",
       "      <td>Sales</td>\n",
       "      <td>Own-child</td>\n",
       "      <td>White</td>\n",
       "      <td>Female</td>\n",
       "      <td>0.0</td>\n",
       "      <td>0.0</td>\n",
       "      <td>30</td>\n",
       "      <td>United-States</td>\n",
       "    </tr>\n",
       "    <tr>\n",
       "      <th>4</th>\n",
       "      <td>30</td>\n",
       "      <td>Private</td>\n",
       "      <td>36383</td>\n",
       "      <td>Bachelors</td>\n",
       "      <td>13.0</td>\n",
       "      <td>Married-civ-spouse</td>\n",
       "      <td>Sales</td>\n",
       "      <td>Husband</td>\n",
       "      <td>White</td>\n",
       "      <td>Male</td>\n",
       "      <td>0.0</td>\n",
       "      <td>0.0</td>\n",
       "      <td>40</td>\n",
       "      <td>Mexico</td>\n",
       "    </tr>\n",
       "  </tbody>\n",
       "</table>\n",
       "</div>"
      ],
      "text/plain": [
       "   age          workclass  fnlwgt   education  education_num  \\\n",
       "0   39            Private  147548     HS-grad            9.0   \n",
       "1   48            Private  195491     HS-grad            9.0   \n",
       "2   43   Self-emp-not-inc  198096     Masters           14.0   \n",
       "3   18            Private  280603        11th            7.0   \n",
       "4   30            Private   36383   Bachelors           13.0   \n",
       "\n",
       "        marital_status     occupation    relationship    race      sex  \\\n",
       "0   Married-civ-spouse   Craft-repair         Husband   White     Male   \n",
       "1             Divorced          Sales   Not-in-family   White   Female   \n",
       "2   Married-civ-spouse          Sales         Husband   White     Male   \n",
       "3        Never-married          Sales       Own-child   White   Female   \n",
       "4   Married-civ-spouse          Sales         Husband   White     Male   \n",
       "\n",
       "   capital_gain  capital_loss  hours_per_week  native_country  \n",
       "0           0.0           0.0              40   United-States  \n",
       "1           0.0           0.0              30   United-States  \n",
       "2           0.0           0.0              60   United-States  \n",
       "3           0.0           0.0              30   United-States  \n",
       "4           0.0           0.0              40          Mexico  "
      ]
     },
     "execution_count": 3,
     "metadata": {},
     "output_type": "execute_result"
    }
   ],
   "source": [
    "X_train.head()"
   ]
  },
  {
   "cell_type": "markdown",
   "id": "92f5ae21",
   "metadata": {},
   "source": [
    "## View the shape of the dataset"
   ]
  },
  {
   "cell_type": "code",
   "execution_count": 4,
   "id": "60351cfe",
   "metadata": {},
   "outputs": [
    {
     "data": {
      "text/plain": [
       "(5000000, 14)"
      ]
     },
     "execution_count": 4,
     "metadata": {},
     "output_type": "execute_result"
    }
   ],
   "source": [
    "X_train.shape"
   ]
  },
  {
   "cell_type": "markdown",
   "id": "93ccde62",
   "metadata": {},
   "source": [
    "**The dataset has 5000000 rows and 14 columns.** "
   ]
  },
  {
   "cell_type": "markdown",
   "id": "339090f2",
   "metadata": {},
   "source": [
    "## View the columns of the dataset"
   ]
  },
  {
   "cell_type": "code",
   "execution_count": 5,
   "id": "e058ab79",
   "metadata": {
    "scrolled": true
   },
   "outputs": [
    {
     "data": {
      "text/plain": [
       "Index(['age', 'workclass', 'fnlwgt', 'education', 'education_num',\n",
       "       'marital_status', 'occupation', 'relationship', 'race', 'sex',\n",
       "       'capital_gain', 'capital_loss', 'hours_per_week', 'native_country'],\n",
       "      dtype='object')"
      ]
     },
     "execution_count": 5,
     "metadata": {},
     "output_type": "execute_result"
    }
   ],
   "source": [
    "X_train.columns"
   ]
  },
  {
   "cell_type": "markdown",
   "id": "e70ba557",
   "metadata": {},
   "source": [
    "## View the data types of the dataset"
   ]
  },
  {
   "cell_type": "code",
   "execution_count": 6,
   "id": "d863ba82",
   "metadata": {
    "scrolled": true
   },
   "outputs": [
    {
     "data": {
      "text/plain": [
       "age                 int64\n",
       "workclass          object\n",
       "fnlwgt              int64\n",
       "education          object\n",
       "education_num     float64\n",
       "marital_status     object\n",
       "occupation         object\n",
       "relationship       object\n",
       "race               object\n",
       "sex                object\n",
       "capital_gain      float64\n",
       "capital_loss      float64\n",
       "hours_per_week      int64\n",
       "native_country     object\n",
       "dtype: object"
      ]
     },
     "execution_count": 6,
     "metadata": {},
     "output_type": "execute_result"
    }
   ],
   "source": [
    "X_train.dtypes"
   ]
  },
  {
   "cell_type": "markdown",
   "id": "f140c2b6",
   "metadata": {},
   "source": [
    "**The dataset has 8 categorical columns and 6 numerical columns.**"
   ]
  },
  {
   "cell_type": "markdown",
   "id": "e790d3f0",
   "metadata": {},
   "source": [
    "## Get the information of the dataset"
   ]
  },
  {
   "cell_type": "code",
   "execution_count": 7,
   "id": "0354523c",
   "metadata": {},
   "outputs": [
    {
     "name": "stdout",
     "output_type": "stream",
     "text": [
      "<class 'pandas.core.frame.DataFrame'>\n",
      "RangeIndex: 5000000 entries, 0 to 4999999\n",
      "Data columns (total 14 columns):\n",
      " #   Column          Dtype  \n",
      "---  ------          -----  \n",
      " 0   age             int64  \n",
      " 1   workclass       object \n",
      " 2   fnlwgt          int64  \n",
      " 3   education       object \n",
      " 4   education_num   float64\n",
      " 5   marital_status  object \n",
      " 6   occupation      object \n",
      " 7   relationship    object \n",
      " 8   race            object \n",
      " 9   sex             object \n",
      " 10  capital_gain    float64\n",
      " 11  capital_loss    float64\n",
      " 12  hours_per_week  int64  \n",
      " 13  native_country  object \n",
      "dtypes: float64(3), int64(3), object(8)\n",
      "memory usage: 534.1+ MB\n"
     ]
    }
   ],
   "source": [
    "X_train.info()"
   ]
  },
  {
   "cell_type": "markdown",
   "id": "d2316114",
   "metadata": {},
   "source": [
    "## Get the description of the dataset using describe() function"
   ]
  },
  {
   "cell_type": "code",
   "execution_count": 8,
   "id": "cb8c3a82",
   "metadata": {},
   "outputs": [
    {
     "data": {
      "text/html": [
       "<div>\n",
       "<style scoped>\n",
       "    .dataframe tbody tr th:only-of-type {\n",
       "        vertical-align: middle;\n",
       "    }\n",
       "\n",
       "    .dataframe tbody tr th {\n",
       "        vertical-align: top;\n",
       "    }\n",
       "\n",
       "    .dataframe thead th {\n",
       "        text-align: right;\n",
       "    }\n",
       "</style>\n",
       "<table border=\"1\" class=\"dataframe\">\n",
       "  <thead>\n",
       "    <tr style=\"text-align: right;\">\n",
       "      <th></th>\n",
       "      <th>age</th>\n",
       "      <th>fnlwgt</th>\n",
       "      <th>education_num</th>\n",
       "      <th>capital_gain</th>\n",
       "      <th>capital_loss</th>\n",
       "      <th>hours_per_week</th>\n",
       "    </tr>\n",
       "  </thead>\n",
       "  <tbody>\n",
       "    <tr>\n",
       "      <th>count</th>\n",
       "      <td>5.000000e+06</td>\n",
       "      <td>5.000000e+06</td>\n",
       "      <td>4.950213e+06</td>\n",
       "      <td>4.949709e+06</td>\n",
       "      <td>4.949888e+06</td>\n",
       "      <td>5.000000e+06</td>\n",
       "    </tr>\n",
       "    <tr>\n",
       "      <th>mean</th>\n",
       "      <td>3.856893e+01</td>\n",
       "      <td>1.897880e+05</td>\n",
       "      <td>1.008112e+01</td>\n",
       "      <td>1.079474e+03</td>\n",
       "      <td>8.728547e+01</td>\n",
       "      <td>4.042488e+01</td>\n",
       "    </tr>\n",
       "    <tr>\n",
       "      <th>std</th>\n",
       "      <td>1.363700e+01</td>\n",
       "      <td>1.056371e+05</td>\n",
       "      <td>2.572309e+00</td>\n",
       "      <td>7.389068e+03</td>\n",
       "      <td>4.028265e+02</td>\n",
       "      <td>1.234725e+01</td>\n",
       "    </tr>\n",
       "    <tr>\n",
       "      <th>min</th>\n",
       "      <td>1.700000e+01</td>\n",
       "      <td>1.228500e+04</td>\n",
       "      <td>1.000000e+00</td>\n",
       "      <td>0.000000e+00</td>\n",
       "      <td>0.000000e+00</td>\n",
       "      <td>1.000000e+00</td>\n",
       "    </tr>\n",
       "    <tr>\n",
       "      <th>25%</th>\n",
       "      <td>2.800000e+01</td>\n",
       "      <td>1.177980e+05</td>\n",
       "      <td>9.000000e+00</td>\n",
       "      <td>0.000000e+00</td>\n",
       "      <td>0.000000e+00</td>\n",
       "      <td>4.000000e+01</td>\n",
       "    </tr>\n",
       "    <tr>\n",
       "      <th>50%</th>\n",
       "      <td>3.700000e+01</td>\n",
       "      <td>1.783560e+05</td>\n",
       "      <td>1.000000e+01</td>\n",
       "      <td>0.000000e+00</td>\n",
       "      <td>0.000000e+00</td>\n",
       "      <td>4.000000e+01</td>\n",
       "    </tr>\n",
       "    <tr>\n",
       "      <th>75%</th>\n",
       "      <td>4.800000e+01</td>\n",
       "      <td>2.372720e+05</td>\n",
       "      <td>1.200000e+01</td>\n",
       "      <td>0.000000e+00</td>\n",
       "      <td>0.000000e+00</td>\n",
       "      <td>4.500000e+01</td>\n",
       "    </tr>\n",
       "    <tr>\n",
       "      <th>max</th>\n",
       "      <td>9.000000e+01</td>\n",
       "      <td>1.484705e+06</td>\n",
       "      <td>1.600000e+01</td>\n",
       "      <td>9.999900e+04</td>\n",
       "      <td>4.356000e+03</td>\n",
       "      <td>9.900000e+01</td>\n",
       "    </tr>\n",
       "  </tbody>\n",
       "</table>\n",
       "</div>"
      ],
      "text/plain": [
       "                age        fnlwgt  education_num  capital_gain  capital_loss  \\\n",
       "count  5.000000e+06  5.000000e+06   4.950213e+06  4.949709e+06  4.949888e+06   \n",
       "mean   3.856893e+01  1.897880e+05   1.008112e+01  1.079474e+03  8.728547e+01   \n",
       "std    1.363700e+01  1.056371e+05   2.572309e+00  7.389068e+03  4.028265e+02   \n",
       "min    1.700000e+01  1.228500e+04   1.000000e+00  0.000000e+00  0.000000e+00   \n",
       "25%    2.800000e+01  1.177980e+05   9.000000e+00  0.000000e+00  0.000000e+00   \n",
       "50%    3.700000e+01  1.783560e+05   1.000000e+01  0.000000e+00  0.000000e+00   \n",
       "75%    4.800000e+01  2.372720e+05   1.200000e+01  0.000000e+00  0.000000e+00   \n",
       "max    9.000000e+01  1.484705e+06   1.600000e+01  9.999900e+04  4.356000e+03   \n",
       "\n",
       "       hours_per_week  \n",
       "count    5.000000e+06  \n",
       "mean     4.042488e+01  \n",
       "std      1.234725e+01  \n",
       "min      1.000000e+00  \n",
       "25%      4.000000e+01  \n",
       "50%      4.000000e+01  \n",
       "75%      4.500000e+01  \n",
       "max      9.900000e+01  "
      ]
     },
     "execution_count": 8,
     "metadata": {},
     "output_type": "execute_result"
    }
   ],
   "source": [
    "X_train.describe()"
   ]
  },
  {
   "cell_type": "markdown",
   "id": "5445f887",
   "metadata": {},
   "source": [
    "**In the above cell, we got the description of the dataset.**"
   ]
  },
  {
   "cell_type": "markdown",
   "id": "822b0910",
   "metadata": {},
   "source": [
    "## Get the sum of missing values in each column of dataset"
   ]
  },
  {
   "cell_type": "code",
   "execution_count": 9,
   "id": "df645d45",
   "metadata": {},
   "outputs": [
    {
     "data": {
      "text/plain": [
       "age                   0\n",
       "workclass         50398\n",
       "fnlwgt                0\n",
       "education         50396\n",
       "education_num     49787\n",
       "marital_status    50208\n",
       "occupation        49637\n",
       "relationship      49929\n",
       "race              50070\n",
       "sex               50066\n",
       "capital_gain      50291\n",
       "capital_loss      50112\n",
       "hours_per_week        0\n",
       "native_country    49765\n",
       "dtype: int64"
      ]
     },
     "execution_count": 9,
     "metadata": {},
     "output_type": "execute_result"
    }
   ],
   "source": [
    "X_train.isnull().sum()"
   ]
  },
  {
   "cell_type": "markdown",
   "id": "8042348c",
   "metadata": {},
   "source": [
    "**From the above output, I can say that there are so many missing values in the dataset with workclass column having the highest number of missing values.**"
   ]
  },
  {
   "cell_type": "markdown",
   "id": "5ea137a6",
   "metadata": {},
   "source": [
    "## Calculate the correlation for the dataset using corr() function"
   ]
  },
  {
   "cell_type": "code",
   "execution_count": 10,
   "id": "01786438",
   "metadata": {},
   "outputs": [],
   "source": [
    "X_train_corr = X_train.corr()"
   ]
  },
  {
   "cell_type": "markdown",
   "id": "8f811542",
   "metadata": {},
   "source": [
    "## Create a heatmap for the correlation calculated above"
   ]
  },
  {
   "cell_type": "code",
   "execution_count": 11,
   "id": "5a965a12",
   "metadata": {},
   "outputs": [
    {
     "data": {
      "image/png": "[encoded data removed]",
      "text/plain": [
       "<Figure size 720x432 with 2 Axes>"
      ]
     },
     "metadata": {
      "needs_background": "light"
     },
     "output_type": "display_data"
    }
   ],
   "source": [
    "# Create a heatmap for the calculated correlation\n",
    "plt.figure(figsize=(10, 6))\n",
    "sns.heatmap(X_train_corr, annot=True, cmap='coolwarm', fmt=\".2f\", linewidths=.5)\n",
    "plt.title('Correlation Heatmap ')\n",
    "plt.show()"
   ]
  },
  {
   "cell_type": "markdown",
   "id": "873f87f1",
   "metadata": {},
   "source": [
    "**The above heatmap shows how each column is correlated with each other. Some of them are negatively correlated (if one column increases, the other decreases and vice versa) and some of them are positively correlated (if one column increases, the other also increases).**"
   ]
  },
  {
   "cell_type": "markdown",
   "id": "86dbeafa",
   "metadata": {},
   "source": [
    "## Read the dataset which contains only class column in it"
   ]
  },
  {
   "cell_type": "code",
   "execution_count": 12,
   "id": "5e042ec1",
   "metadata": {},
   "outputs": [],
   "source": [
    "# Load the second CSV file\n",
    "target = pd.read_csv('final_train_y_dont_use')"
   ]
  },
  {
   "cell_type": "markdown",
   "id": "d5af5606",
   "metadata": {},
   "source": [
    "**In the above cell, we have read the class column dataset which contains two values 0 and 1.**"
   ]
  },
  {
   "cell_type": "markdown",
   "id": "23793cc8",
   "metadata": {},
   "source": [
    "## Read the data types of target dataset"
   ]
  },
  {
   "cell_type": "code",
   "execution_count": 13,
   "id": "f6ceba3b",
   "metadata": {},
   "outputs": [
    {
     "data": {
      "text/plain": [
       "class    int64\n",
       "dtype: object"
      ]
     },
     "execution_count": 13,
     "metadata": {},
     "output_type": "execute_result"
    }
   ],
   "source": [
    "target.dtypes"
   ]
  },
  {
   "cell_type": "markdown",
   "id": "4d218ed8",
   "metadata": {},
   "source": [
    "**In the above cell, we got the data types for the dataset.**"
   ]
  },
  {
   "cell_type": "markdown",
   "id": "f8a8b707",
   "metadata": {},
   "source": [
    "## Concat the X_train and target and assign to combined_data for visualization"
   ]
  },
  {
   "cell_type": "code",
   "execution_count": 14,
   "id": "ad8ad113",
   "metadata": {},
   "outputs": [],
   "source": [
    "# Create a unified DataFrame by concatenating input features and target column\n",
    "combined_data = pd.concat([X_train, target], axis=1)"
   ]
  },
  {
   "cell_type": "markdown",
   "id": "ae10818f",
   "metadata": {},
   "source": [
    "## View the head of the combined data with features and target column "
   ]
  },
  {
   "cell_type": "code",
   "execution_count": 15,
   "id": "980e9237",
   "metadata": {},
   "outputs": [
    {
     "data": {
      "text/html": [
       "<div>\n",
       "<style scoped>\n",
       "    .dataframe tbody tr th:only-of-type {\n",
       "        vertical-align: middle;\n",
       "    }\n",
       "\n",
       "    .dataframe tbody tr th {\n",
       "        vertical-align: top;\n",
       "    }\n",
       "\n",
       "    .dataframe thead th {\n",
       "        text-align: right;\n",
       "    }\n",
       "</style>\n",
       "<table border=\"1\" class=\"dataframe\">\n",
       "  <thead>\n",
       "    <tr style=\"text-align: right;\">\n",
       "      <th></th>\n",
       "      <th>age</th>\n",
       "      <th>workclass</th>\n",
       "      <th>fnlwgt</th>\n",
       "      <th>education</th>\n",
       "      <th>education_num</th>\n",
       "      <th>marital_status</th>\n",
       "      <th>occupation</th>\n",
       "      <th>relationship</th>\n",
       "      <th>race</th>\n",
       "      <th>sex</th>\n",
       "      <th>capital_gain</th>\n",
       "      <th>capital_loss</th>\n",
       "      <th>hours_per_week</th>\n",
       "      <th>native_country</th>\n",
       "      <th>class</th>\n",
       "    </tr>\n",
       "  </thead>\n",
       "  <tbody>\n",
       "    <tr>\n",
       "      <th>0</th>\n",
       "      <td>39</td>\n",
       "      <td>Private</td>\n",
       "      <td>147548</td>\n",
       "      <td>HS-grad</td>\n",
       "      <td>9.0</td>\n",
       "      <td>Married-civ-spouse</td>\n",
       "      <td>Craft-repair</td>\n",
       "      <td>Husband</td>\n",
       "      <td>White</td>\n",
       "      <td>Male</td>\n",
       "      <td>0.0</td>\n",
       "      <td>0.0</td>\n",
       "      <td>40</td>\n",
       "      <td>United-States</td>\n",
       "      <td>0</td>\n",
       "    </tr>\n",
       "    <tr>\n",
       "      <th>1</th>\n",
       "      <td>48</td>\n",
       "      <td>Private</td>\n",
       "      <td>195491</td>\n",
       "      <td>HS-grad</td>\n",
       "      <td>9.0</td>\n",
       "      <td>Divorced</td>\n",
       "      <td>Sales</td>\n",
       "      <td>Not-in-family</td>\n",
       "      <td>White</td>\n",
       "      <td>Female</td>\n",
       "      <td>0.0</td>\n",
       "      <td>0.0</td>\n",
       "      <td>30</td>\n",
       "      <td>United-States</td>\n",
       "      <td>0</td>\n",
       "    </tr>\n",
       "    <tr>\n",
       "      <th>2</th>\n",
       "      <td>43</td>\n",
       "      <td>Self-emp-not-inc</td>\n",
       "      <td>198096</td>\n",
       "      <td>Masters</td>\n",
       "      <td>14.0</td>\n",
       "      <td>Married-civ-spouse</td>\n",
       "      <td>Sales</td>\n",
       "      <td>Husband</td>\n",
       "      <td>White</td>\n",
       "      <td>Male</td>\n",
       "      <td>0.0</td>\n",
       "      <td>0.0</td>\n",
       "      <td>60</td>\n",
       "      <td>United-States</td>\n",
       "      <td>0</td>\n",
       "    </tr>\n",
       "    <tr>\n",
       "      <th>3</th>\n",
       "      <td>18</td>\n",
       "      <td>Private</td>\n",
       "      <td>280603</td>\n",
       "      <td>11th</td>\n",
       "      <td>7.0</td>\n",
       "      <td>Never-married</td>\n",
       "      <td>Sales</td>\n",
       "      <td>Own-child</td>\n",
       "      <td>White</td>\n",
       "      <td>Female</td>\n",
       "      <td>0.0</td>\n",
       "      <td>0.0</td>\n",
       "      <td>30</td>\n",
       "      <td>United-States</td>\n",
       "      <td>0</td>\n",
       "    </tr>\n",
       "    <tr>\n",
       "      <th>4</th>\n",
       "      <td>30</td>\n",
       "      <td>Private</td>\n",
       "      <td>36383</td>\n",
       "      <td>Bachelors</td>\n",
       "      <td>13.0</td>\n",
       "      <td>Married-civ-spouse</td>\n",
       "      <td>Sales</td>\n",
       "      <td>Husband</td>\n",
       "      <td>White</td>\n",
       "      <td>Male</td>\n",
       "      <td>0.0</td>\n",
       "      <td>0.0</td>\n",
       "      <td>40</td>\n",
       "      <td>Mexico</td>\n",
       "      <td>1</td>\n",
       "    </tr>\n",
       "  </tbody>\n",
       "</table>\n",
       "</div>"
      ],
      "text/plain": [
       "   age          workclass  fnlwgt   education  education_num  \\\n",
       "0   39            Private  147548     HS-grad            9.0   \n",
       "1   48            Private  195491     HS-grad            9.0   \n",
       "2   43   Self-emp-not-inc  198096     Masters           14.0   \n",
       "3   18            Private  280603        11th            7.0   \n",
       "4   30            Private   36383   Bachelors           13.0   \n",
       "\n",
       "        marital_status     occupation    relationship    race      sex  \\\n",
       "0   Married-civ-spouse   Craft-repair         Husband   White     Male   \n",
       "1             Divorced          Sales   Not-in-family   White   Female   \n",
       "2   Married-civ-spouse          Sales         Husband   White     Male   \n",
       "3        Never-married          Sales       Own-child   White   Female   \n",
       "4   Married-civ-spouse          Sales         Husband   White     Male   \n",
       "\n",
       "   capital_gain  capital_loss  hours_per_week  native_country  class  \n",
       "0           0.0           0.0              40   United-States      0  \n",
       "1           0.0           0.0              30   United-States      0  \n",
       "2           0.0           0.0              60   United-States      0  \n",
       "3           0.0           0.0              30   United-States      0  \n",
       "4           0.0           0.0              40          Mexico      1  "
      ]
     },
     "execution_count": 15,
     "metadata": {},
     "output_type": "execute_result"
    }
   ],
   "source": [
    "combined_data.head()"
   ]
  },
  {
   "cell_type": "markdown",
   "id": "d0359368",
   "metadata": {},
   "source": [
    "## Target Column Distribution"
   ]
  },
  {
   "cell_type": "code",
   "execution_count": 16,
   "id": "6b1f79fb",
   "metadata": {},
   "outputs": [
    {
     "data": {
      "image/png": "[encoded data removed]",
      "text/plain": [
       "<Figure size 432x288 with 1 Axes>"
      ]
     },
     "metadata": {
      "needs_background": "light"
     },
     "output_type": "display_data"
    }
   ],
   "source": [
    "# Visualize distribution of  target column\n",
    "plt.figure(figsize=(6, 4))\n",
    "sns.countplot(data=target, x='class') \n",
    "plt.title('Distribution of Target Column')\n",
    "plt.show()"
   ]
  },
  {
   "cell_type": "code",
   "execution_count": 17,
   "id": "f6a81d99",
   "metadata": {},
   "outputs": [
    {
     "data": {
      "text/plain": [
       "class\n",
       "0        3795712\n",
       "1        1204288\n",
       "dtype: int64"
      ]
     },
     "execution_count": 17,
     "metadata": {},
     "output_type": "execute_result"
    }
   ],
   "source": [
    "target.value_counts()"
   ]
  },
  {
   "cell_type": "markdown",
   "id": "1054fe19",
   "metadata": {},
   "source": [
    "**From the above plot, it is clear that 0 has the highest number of values than 1 in the dataset.**"
   ]
  },
  {
   "cell_type": "markdown",
   "id": "feb02bb4",
   "metadata": {},
   "source": [
    "## Get the column names of the dataset"
   ]
  },
  {
   "cell_type": "code",
   "execution_count": 18,
   "id": "5419bc98",
   "metadata": {},
   "outputs": [
    {
     "data": {
      "text/plain": [
       "Index(['age', 'workclass', 'fnlwgt', 'education', 'education_num',\n",
       "       'marital_status', 'occupation', 'relationship', 'race', 'sex',\n",
       "       'capital_gain', 'capital_loss', 'hours_per_week', 'native_country',\n",
       "       'class'],\n",
       "      dtype='object')"
      ]
     },
     "execution_count": 18,
     "metadata": {},
     "output_type": "execute_result"
    }
   ],
   "source": [
    "combined_data.columns"
   ]
  },
  {
   "cell_type": "markdown",
   "id": "d3d96c0c",
   "metadata": {},
   "source": [
    "## Plot the distribution of age column in the dataset"
   ]
  },
  {
   "cell_type": "code",
   "execution_count": 19,
   "id": "2a2c4efb",
   "metadata": {},
   "outputs": [
    {
     "data": {
      "image/png": "[encoded data removed]",
      "text/plain": [
       "<Figure size 864x432 with 1 Axes>"
      ]
     },
     "metadata": {
      "needs_background": "light"
     },
     "output_type": "display_data"
    }
   ],
   "source": [
    "# Plot the distribution of age column\n",
    "plt.figure(figsize=(12, 6)) # Set the figure size\n",
    "sns.histplot(combined_data['age'], bins=30) # Plot the histogram\n",
    "plt.title('Distribution of Age column') # Set the title of the plot\n",
    "plt.xlabel('Age') # Set the x-label\n",
    "plt.ylabel('Count') # Set the y-label\n",
    "plt.show() # Show the plot"
   ]
  },
  {
   "cell_type": "markdown",
   "id": "c1a9ae51",
   "metadata": {},
   "source": [
    "**From the above plot, it is clear that there are many people in the age range of 30-40.**"
   ]
  },
  {
   "cell_type": "markdown",
   "id": "959b9d05",
   "metadata": {},
   "source": [
    "## Plot the distribution of education column taking class (target) column distribution"
   ]
  },
  {
   "cell_type": "code",
   "execution_count": 20,
   "id": "c41b901c",
   "metadata": {},
   "outputs": [
    {
     "data": {
      "image/png": "[encoded data removed]",
      "text/plain": [
       "<Figure size 864x432 with 1 Axes>"
      ]
     },
     "metadata": {
      "needs_background": "light"
     },
     "output_type": "display_data"
    }
   ],
   "source": [
    "# Plot the distribution of education column\n",
    "plt.figure(figsize=(12, 6)) # Set the figure size\n",
    "sns.countplot(x='education', data=combined_data,hue = 'class', palette='Set1') # Plot the countplot\n",
    "plt.title('Education Level Distribution') # Set the title of the plot\n",
    "plt.xlabel('Education Level') # Set the x-label\n",
    "plt.ylabel('Frequency') # Set the y-label\n",
    "plt.legend(title='Class') # Set the legend to the target column (class)\n",
    "plt.xticks(rotation=45) # Set the rotations\n",
    "plt.show() # Show the plot"
   ]
  },
  {
   "cell_type": "markdown",
   "id": "c563457b",
   "metadata": {},
   "source": [
    "**From the above plot, we can say that HS-grad has the highest number of class 0 and Bachelors has the highest number of class 1.**"
   ]
  },
  {
   "cell_type": "markdown",
   "id": "0d12ac84",
   "metadata": {},
   "source": [
    "## Plot the scatterplot between capital_gain and capital_loss"
   ]
  },
  {
   "cell_type": "code",
   "execution_count": 21,
   "id": "e80a4e6f",
   "metadata": {},
   "outputs": [
    {
     "data": {
      "image/png": "[encoded data removed]",
      "text/plain": [
       "<Figure size 864x432 with 1 Axes>"
      ]
     },
     "metadata": {
      "needs_background": "light"
     },
     "output_type": "display_data"
    }
   ],
   "source": [
    "# Scatterplot between capital gain and capital loss\n",
    "plt.figure(figsize=(12, 6)) # Set the figure size\n",
    "sns.scatterplot(x='capital_gain', y='capital_loss', hue='class', data=combined_data, palette='Set1') # Plot the scatterplot\n",
    "plt.title('Scatter Plot between Capital Gain and Capital Loss') # Set the title\n",
    "plt.xlabel('Capital Gain') # Set the xlabel\n",
    "plt.ylabel('Capital Loss') # Set the ylabel\n",
    "plt.legend(title='Class') # Set the legend\n",
    "plt.show() # Show the plot"
   ]
  },
  {
   "cell_type": "markdown",
   "id": "e82d8b8f",
   "metadata": {},
   "source": [
    "**In the above scatterplot, there are some outliers which belongs to class 1.**"
   ]
  },
  {
   "cell_type": "markdown",
   "id": "55ef920a",
   "metadata": {},
   "source": [
    "## Plot a countplot for the marital_status column by target column"
   ]
  },
  {
   "cell_type": "code",
   "execution_count": 22,
   "id": "c9f332d7",
   "metadata": {},
   "outputs": [
    {
     "data": {
      "image/png": "[encoded data removed]",
      "text/plain": [
       "<Figure size 864x432 with 1 Axes>"
      ]
     },
     "metadata": {
      "needs_background": "light"
     },
     "output_type": "display_data"
    }
   ],
   "source": [
    "# CountPlot of marital status distribution by class (target column)\n",
    "plt.figure(figsize=(12, 6)) # Set the figure size\n",
    "sns.countplot(x='marital_status', hue='class', data=combined_data, palette='Set1') # Plot the countplot\n",
    "plt.title('Countplot for Marital Status by Class') # Set the title\n",
    "plt.xlabel('Marital Status') # Set the xlabel\n",
    "plt.ylabel('Frequency') # Set the ylabel\n",
    "plt.xticks(rotation=45) # Set the rotations\n",
    "plt.legend(title='Class') # Set the legend\n",
    "plt.show() # Show the plot"
   ]
  },
  {
   "cell_type": "markdown",
   "id": "3d9bb6fb",
   "metadata": {},
   "source": [
    "**In the above plot, Never-married has the highest number of class 0 and Married-civ-spouse has the highest number of class 1. Surprisingly, there are no classes for Married-AF-spouse.**"
   ]
  },
  {
   "cell_type": "markdown",
   "id": "af8d8e3a",
   "metadata": {},
   "source": [
    "## Plot a boxplot between class and hours_per_week"
   ]
  },
  {
   "cell_type": "code",
   "execution_count": 23,
   "id": "4d805894",
   "metadata": {},
   "outputs": [
    {
     "data": {
      "image/png": "[encoded data removed]",
      "text/plain": [
       "<Figure size 1080x576 with 1 Axes>"
      ]
     },
     "metadata": {
      "needs_background": "light"
     },
     "output_type": "display_data"
    }
   ],
   "source": [
    "# BoxPLot between class and hours_per_week\n",
    "plt.figure(figsize=(15, 8)) # Set the figure size\n",
    "sns.boxplot(x='class', y='hours_per_week', data=combined_data) # Plot the boxplot\n",
    "plt.show() # Show the plot"
   ]
  },
  {
   "cell_type": "markdown",
   "id": "363c6a05",
   "metadata": {},
   "source": [
    "**In the above plot, it is clear that there are no outliers for class 0 and for class 1, there are very slight number of outliers.**"
   ]
  },
  {
   "cell_type": "markdown",
   "id": "89335c6c",
   "metadata": {},
   "source": [
    "## Plot the countplot of sex distribution by target column (class)"
   ]
  },
  {
   "cell_type": "code",
   "execution_count": 24,
   "id": "40bd599e",
   "metadata": {},
   "outputs": [
    {
     "data": {
      "image/png": "[encoded data removed]",
      "text/plain": [
       "<Figure size 864x432 with 1 Axes>"
      ]
     },
     "metadata": {
      "needs_background": "light"
     },
     "output_type": "display_data"
    }
   ],
   "source": [
    "# Plot the countplot of sex distribution by target column (class)\n",
    "plt.figure(figsize=(12, 6)) # Set the figure size\n",
    "sns.countplot(x='sex', hue='class', data=combined_data) # PLot the countplot\n",
    "plt.title('Sex Distribution by Target Column') # Set the title\n",
    "plt.xlabel('Sex') # Set the x-label\n",
    "plt.ylabel('Count') # Set the y-label\n",
    "plt.xticks(rotation=45) # Set the rotations\n",
    "plt.legend(title='Class') # Set the legend\n",
    "plt.show() # Show the plot"
   ]
  },
  {
   "cell_type": "markdown",
   "id": "ef0d7aad",
   "metadata": {},
   "source": [
    "**In the above plot, it is clear that Male has the highest number of class 0 and also class 1 compared to females.**"
   ]
  },
  {
   "cell_type": "markdown",
   "id": "94143616",
   "metadata": {},
   "source": [
    "## Plot the countplot of race distribution by target column (class)"
   ]
  },
  {
   "cell_type": "code",
   "execution_count": 25,
   "id": "503c9bd9",
   "metadata": {},
   "outputs": [
    {
     "data": {
      "image/png": "[encoded data removed]",
      "text/plain": [
       "<Figure size 864x432 with 1 Axes>"
      ]
     },
     "metadata": {
      "needs_background": "light"
     },
     "output_type": "display_data"
    }
   ],
   "source": [
    "# Plot the countplot of race distribution by target column (class)\n",
    "plt.figure(figsize=(12, 6)) # Set the figure size\n",
    "sns.countplot(x='race', hue='class', data=combined_data) # PLot the countplot\n",
    "plt.title('Race Distribution by Target Column') # Set the title\n",
    "plt.xlabel('Race') # Set the x-label\n",
    "plt.ylabel('Count') # Set the y-label\n",
    "plt.xticks(rotation=45) # Set the rotations\n",
    "plt.legend(title='Class') # Set the legend\n",
    "plt.show() # Show the plot"
   ]
  },
  {
   "cell_type": "markdown",
   "id": "13d07c1b",
   "metadata": {},
   "source": [
    "**From the above plot, it is clear that White Race has the highest number of both classes 0 and 1.**"
   ]
  },
  {
   "cell_type": "markdown",
   "id": "4dafa637",
   "metadata": {},
   "source": [
    "## Plot the countplot of workclass distribution by target column (class)"
   ]
  },
  {
   "cell_type": "code",
   "execution_count": 26,
   "id": "ae9abc52",
   "metadata": {},
   "outputs": [
    {
     "data": {
      "image/png": "[encoded data removed]",
      "text/plain": [
       "<Figure size 864x432 with 1 Axes>"
      ]
     },
     "metadata": {
      "needs_background": "light"
     },
     "output_type": "display_data"
    }
   ],
   "source": [
    "# Plot the countplot of workclass distribution by target column (class)\n",
    "plt.figure(figsize=(12, 6)) # Set the figure size\n",
    "sns.countplot(x='workclass', hue='class', data=combined_data) # PLot the countplot\n",
    "plt.title('Race Distribution by Target Column') # Set the title\n",
    "plt.xlabel('Race') # Set the x-label\n",
    "plt.ylabel('Count') # Set the y-label\n",
    "plt.xticks(rotation=45) # Set the rotations\n",
    "plt.legend(title='Class') # Set the legend\n",
    "plt.show() # Show the plot"
   ]
  },
  {
   "cell_type": "markdown",
   "id": "0c88e326",
   "metadata": {},
   "source": [
    "**In the above plot, it is clear that Private has the highest number of class 0 and class 1.**"
   ]
  },
  {
   "cell_type": "markdown",
   "id": "76b00f46",
   "metadata": {},
   "source": [
    "## Plot the countplot of occupation distribution by target column (class)¶"
   ]
  },
  {
   "cell_type": "code",
   "execution_count": 27,
   "id": "b05822b1",
   "metadata": {},
   "outputs": [
    {
     "data": {
      "image/png": "[encoded data removed]",
      "text/plain": [
       "<Figure size 864x432 with 1 Axes>"
      ]
     },
     "metadata": {
      "needs_background": "light"
     },
     "output_type": "display_data"
    }
   ],
   "source": [
    "# Plot the countplot of workclass distribution by target column (class)\n",
    "plt.figure(figsize=(12, 6)) # Set the figure size\n",
    "sns.countplot(x='occupation', hue='class', data=combined_data) # PLot the countplot\n",
    "plt.title('Occupation Distribution by Target Column') # Set the title\n",
    "plt.xlabel('Occupation') # Set the x-label\n",
    "plt.ylabel('Count') # Set the y-label\n",
    "plt.xticks(rotation=45) # Set the rotations\n",
    "plt.legend(title='Class') # Set the legend\n",
    "plt.show() # Show the plot"
   ]
  },
  {
   "cell_type": "markdown",
   "id": "873e68f7",
   "metadata": {},
   "source": [
    "**In the above plot, we can say that Adm-clerical has the highest number of class 0 and Exec-managerial has the highest number of class 1.**"
   ]
  },
  {
   "cell_type": "markdown",
   "id": "d387b776",
   "metadata": {},
   "source": [
    "## Plot the countplot of relationship distribution by target column (class)"
   ]
  },
  {
   "cell_type": "code",
   "execution_count": 28,
   "id": "b6eb99f8",
   "metadata": {
    "scrolled": false
   },
   "outputs": [
    {
     "data": {
      "image/png": "[encoded data removed]",
      "text/plain": [
       "<Figure size 864x432 with 1 Axes>"
      ]
     },
     "metadata": {
      "needs_background": "light"
     },
     "output_type": "display_data"
    }
   ],
   "source": [
    "# Plot the countplot of relationship distribution by target column (class)\n",
    "plt.figure(figsize=(12, 6)) # Set the figure size\n",
    "sns.countplot(x='relationship', hue='class', data=combined_data) # PLot the countplot\n",
    "plt.title('Relationship Distribution by Target Column') # Set the title\n",
    "plt.xlabel('Relationship') # Set the x-label\n",
    "plt.ylabel('Count') # Set the y-label\n",
    "plt.xticks(rotation=45) # Set the rotations\n",
    "plt.legend(title='Class') # Set the legend\n",
    "plt.show() # Show the plot"
   ]
  },
  {
   "cell_type": "markdown",
   "id": "904bd73a",
   "metadata": {},
   "source": [
    "**In the above plot, it is clear that relationship Not-in-family has the highest number of class 0 and relationship Husband has the highest number of class 1.**"
   ]
  },
  {
   "cell_type": "markdown",
   "id": "3044ea42",
   "metadata": {},
   "source": [
    "## Plot the countplot of native_country distribution by target column (class)"
   ]
  },
  {
   "cell_type": "code",
   "execution_count": 29,
   "id": "793890e2",
   "metadata": {},
   "outputs": [
    {
     "data": {
      "image/png": "[encoded data removed]",
      "text/plain": [
       "<Figure size 1296x864 with 1 Axes>"
      ]
     },
     "metadata": {
      "needs_background": "light"
     },
     "output_type": "display_data"
    }
   ],
   "source": [
    "# Plot the countplot of native_country distribution by target column (class)\n",
    "plt.figure(figsize=(18, 12)) # Set the figure size \n",
    "sns.countplot(x='native_country', hue='class', data=combined_data, palette='Set1') # PLot the countplot\n",
    "plt.title('native_country distribution by target column') # Set the title\n",
    "plt.xlabel('Native_Country') # Set the x-label\n",
    "plt.ylabel('Count') # Set the y-label\n",
    "plt.xticks(rotation=45) # Set the rotations\n",
    "plt.legend(title='Class') # Set the legend\n",
    "plt.show() # Show the plot"
   ]
  },
  {
   "cell_type": "markdown",
   "id": "ab1b5bab",
   "metadata": {},
   "source": [
    "**United States has the highest number of class 0 and class 1.**"
   ]
  },
  {
   "cell_type": "markdown",
   "id": "d563a111",
   "metadata": {},
   "source": [
    "## Calculate the correlation matrix for the combined_data with the target (class) column"
   ]
  },
  {
   "cell_type": "code",
   "execution_count": 30,
   "id": "dd0b8894",
   "metadata": {},
   "outputs": [
    {
     "name": "stdout",
     "output_type": "stream",
     "text": [
      "Correlation of features with class (target column)\n",
      "class             1.000000\n",
      "education_num     0.334916\n",
      "age               0.234176\n",
      "hours_per_week    0.229872\n",
      "capital_gain      0.223469\n",
      "capital_loss      0.151311\n",
      "fnlwgt           -0.008856\n",
      "Name: class, dtype: float64\n"
     ]
    }
   ],
   "source": [
    "# Calculate the correlation\n",
    "corr = combined_data.corr()\n",
    "\n",
    "# Calculate the correlation with the target column and also sort the values\n",
    "corr_with_target = corr['class'].sort_values(ascending=False)\n",
    "\n",
    "# Print the correlations\n",
    "print(\"Correlation of features with class (target column)\")\n",
    "print(corr_with_target)\n"
   ]
  },
  {
   "cell_type": "markdown",
   "id": "2a8fbadd",
   "metadata": {},
   "source": [
    "## Import the required libraries"
   ]
  },
  {
   "cell_type": "code",
   "execution_count": 31,
   "id": "b47b3715",
   "metadata": {},
   "outputs": [],
   "source": [
    "from sklearn.compose import ColumnTransformer\n",
    "from sklearn.impute import SimpleImputer\n",
    "from sklearn.preprocessing import StandardScaler, OneHotEncoder\n",
    "from sklearn.pipeline import Pipeline\n",
    "from sklearn.cluster import KMeans\n",
    "from sklearn.linear_model import LogisticRegression\n",
    "from sklearn.model_selection import train_test_split\n",
    "from sklearn.metrics import accuracy_score\n",
    "import warnings\n",
    "warnings.filterwarnings('ignore')"
   ]
  },
  {
   "cell_type": "markdown",
   "id": "74f9cde2",
   "metadata": {},
   "source": [
    "## Divide the data into numerical and categorical features"
   ]
  },
  {
   "cell_type": "code",
   "execution_count": 32,
   "id": "fc6f308f",
   "metadata": {},
   "outputs": [
    {
     "name": "stdout",
     "output_type": "stream",
     "text": [
      "Numerical Features: Index(['age', 'fnlwgt', 'education_num', 'capital_gain', 'capital_loss',\n",
      "       'hours_per_week'],\n",
      "      dtype='object')\n",
      "Categorical Features: Index(['workclass', 'education', 'marital_status', 'occupation',\n",
      "       'relationship', 'race', 'sex', 'native_country'],\n",
      "      dtype='object')\n"
     ]
    }
   ],
   "source": [
    "numerical_features = X_train.select_dtypes(include=['int64', 'float64']).columns\n",
    "categorical_features = X_train.select_dtypes(include=['object']).columns\n",
    "\n",
    "print('Numerical Features:', numerical_features)\n",
    "print('Categorical Features:',categorical_features)"
   ]
  },
  {
   "cell_type": "markdown",
   "id": "181c197c",
   "metadata": {},
   "source": [
    "## Create a preprocessor pipelines"
   ]
  },
  {
   "cell_type": "code",
   "execution_count": 33,
   "id": "1f0e1b74",
   "metadata": {},
   "outputs": [],
   "source": [
    "# Preprocessing numerical features\n",
    "numerical_pipeline = Pipeline([\n",
    "    ('imputer', SimpleImputer(strategy='mean')), # Imputing the missing values with mean\n",
    "    ('scaler', StandardScaler(with_mean=False))  # parameter is for implementing sparse for numerical\n",
    "])\n",
    "\n",
    "# Preprocessing categorical features\n",
    "categorical_pipeline = Pipeline([\n",
    "    ('imputer', SimpleImputer(strategy='most_frequent')), # Imputing missing values with most_frequent value\n",
    "    ('onehot', OneHotEncoder(handle_unknown='ignore', sparse=True)) # OneHotEncoder for handling categorical features\n",
    "])\n",
    "\n",
    "# Combine both the preprocessor into one ColumnTransformer\n",
    "preprocessor = ColumnTransformer(\n",
    "    transformers=[\n",
    "        ('numerical', numerical_pipeline, numerical_features),\n",
    "        ('categorical', categorical_pipeline, categorical_features)\n",
    "    ])"
   ]
  },
  {
   "cell_type": "markdown",
   "id": "ed8d2e59",
   "metadata": {},
   "source": [
    "## Fit and transform the preprocessor for X_train"
   ]
  },
  {
   "cell_type": "code",
   "execution_count": 34,
   "id": "a00bf4ef",
   "metadata": {},
   "outputs": [],
   "source": [
    "# Preprocess the data, fit and transform\n",
    "X_train_preprocessed = preprocessor.fit_transform(X_train)"
   ]
  },
  {
   "cell_type": "code",
   "execution_count": 35,
   "id": "c6d07d85",
   "metadata": {},
   "outputs": [
    {
     "data": {
      "text/plain": [
       "<5000000x108 sparse matrix of type '<class 'numpy.float64'>'\n",
       "\twith 60744527 stored elements in Compressed Sparse Row format>"
      ]
     },
     "execution_count": 35,
     "metadata": {},
     "output_type": "execute_result"
    }
   ],
   "source": [
    "X_train_preprocessed"
   ]
  },
  {
   "cell_type": "markdown",
   "id": "0771243d",
   "metadata": {},
   "source": [
    "## Plot the elbow curve for finding the optimal number of clusters"
   ]
  },
  {
   "cell_type": "code",
   "execution_count": 36,
   "id": "7a74b560",
   "metadata": {},
   "outputs": [
    {
     "data": {
      "image/png": "[encoded data removed]",
      "text/plain": [
       "<Figure size 432x288 with 1 Axes>"
      ]
     },
     "metadata": {
      "needs_background": "light"
     },
     "output_type": "display_data"
    }
   ],
   "source": [
    "from sklearn.cluster import MiniBatchKMeans\n",
    "\n",
    "inertia = []\n",
    "for k in range(1, 11):\n",
    "    kmeans = MiniBatchKMeans(n_clusters=k, random_state=42, n_init=10, max_iter=300, batch_size=100)\n",
    "    kmeans.fit(X_train_preprocessed)\n",
    "    inertia.append(kmeans.inertia_)\n",
    "\n",
    "\n",
    "# Elbow curve to find the optimal number of clusters\n",
    "import matplotlib.pyplot as plt\n",
    "plt.plot(range(1, 11), inertia, marker='o')\n",
    "plt.xlabel('Number of Clusters')\n",
    "plt.ylabel('Inertia')\n",
    "plt.title('Elbow Curve for finding Optimal Number of Clusters')\n",
    "plt.show()"
   ]
  },
  {
   "cell_type": "markdown",
   "id": "328e5ccd",
   "metadata": {},
   "source": [
    "## Implement k-means clustering for the optimal number of clusters found in the above cell"
   ]
  },
  {
   "cell_type": "code",
   "execution_count": 37,
   "id": "bfa54143",
   "metadata": {},
   "outputs": [],
   "source": [
    "# Implement k-means for the optimal number of clusters (i.e.,9)\n",
    "kmeans = KMeans(n_clusters=9, random_state=42)\n",
    "\n",
    "# Create a pipeline for k-means clustering\n",
    "kmeans_pipeline = Pipeline(steps=[\n",
    "    ('preprocessor', preprocessor),\n",
    "    ('kmeans', kmeans)\n",
    "])"
   ]
  },
  {
   "cell_type": "markdown",
   "id": "0a29ca85",
   "metadata": {},
   "source": [
    "## Fit and predict the model to X_train and get the output is the cluster number i.e., output"
   ]
  },
  {
   "cell_type": "code",
   "execution_count": 38,
   "id": "a241c185",
   "metadata": {},
   "outputs": [],
   "source": [
    "# Fit the kmeans_pipeline to X_train\n",
    "km_labels = kmeans_pipeline.fit_predict(X_train)"
   ]
  },
  {
   "cell_type": "code",
   "execution_count": 39,
   "id": "9d089b26",
   "metadata": {},
   "outputs": [],
   "source": [
    "X_train['cluster_labels'] = km_labels"
   ]
  },
  {
   "cell_type": "code",
   "execution_count": 40,
   "id": "1ad6a0ca",
   "metadata": {},
   "outputs": [
    {
     "data": {
      "text/html": [
       "<div>\n",
       "<style scoped>\n",
       "    .dataframe tbody tr th:only-of-type {\n",
       "        vertical-align: middle;\n",
       "    }\n",
       "\n",
       "    .dataframe tbody tr th {\n",
       "        vertical-align: top;\n",
       "    }\n",
       "\n",
       "    .dataframe thead th {\n",
       "        text-align: right;\n",
       "    }\n",
       "</style>\n",
       "<table border=\"1\" class=\"dataframe\">\n",
       "  <thead>\n",
       "    <tr style=\"text-align: right;\">\n",
       "      <th></th>\n",
       "      <th>age</th>\n",
       "      <th>workclass</th>\n",
       "      <th>fnlwgt</th>\n",
       "      <th>education</th>\n",
       "      <th>education_num</th>\n",
       "      <th>marital_status</th>\n",
       "      <th>occupation</th>\n",
       "      <th>relationship</th>\n",
       "      <th>race</th>\n",
       "      <th>sex</th>\n",
       "      <th>capital_gain</th>\n",
       "      <th>capital_loss</th>\n",
       "      <th>hours_per_week</th>\n",
       "      <th>native_country</th>\n",
       "      <th>cluster_labels</th>\n",
       "    </tr>\n",
       "  </thead>\n",
       "  <tbody>\n",
       "    <tr>\n",
       "      <th>0</th>\n",
       "      <td>39</td>\n",
       "      <td>Private</td>\n",
       "      <td>147548</td>\n",
       "      <td>HS-grad</td>\n",
       "      <td>9.0</td>\n",
       "      <td>Married-civ-spouse</td>\n",
       "      <td>Craft-repair</td>\n",
       "      <td>Husband</td>\n",
       "      <td>White</td>\n",
       "      <td>Male</td>\n",
       "      <td>0.0</td>\n",
       "      <td>0.0</td>\n",
       "      <td>40</td>\n",
       "      <td>United-States</td>\n",
       "      <td>5</td>\n",
       "    </tr>\n",
       "    <tr>\n",
       "      <th>1</th>\n",
       "      <td>48</td>\n",
       "      <td>Private</td>\n",
       "      <td>195491</td>\n",
       "      <td>HS-grad</td>\n",
       "      <td>9.0</td>\n",
       "      <td>Divorced</td>\n",
       "      <td>Sales</td>\n",
       "      <td>Not-in-family</td>\n",
       "      <td>White</td>\n",
       "      <td>Female</td>\n",
       "      <td>0.0</td>\n",
       "      <td>0.0</td>\n",
       "      <td>30</td>\n",
       "      <td>United-States</td>\n",
       "      <td>3</td>\n",
       "    </tr>\n",
       "    <tr>\n",
       "      <th>2</th>\n",
       "      <td>43</td>\n",
       "      <td>Self-emp-not-inc</td>\n",
       "      <td>198096</td>\n",
       "      <td>Masters</td>\n",
       "      <td>14.0</td>\n",
       "      <td>Married-civ-spouse</td>\n",
       "      <td>Sales</td>\n",
       "      <td>Husband</td>\n",
       "      <td>White</td>\n",
       "      <td>Male</td>\n",
       "      <td>0.0</td>\n",
       "      <td>0.0</td>\n",
       "      <td>60</td>\n",
       "      <td>United-States</td>\n",
       "      <td>1</td>\n",
       "    </tr>\n",
       "    <tr>\n",
       "      <th>3</th>\n",
       "      <td>18</td>\n",
       "      <td>Private</td>\n",
       "      <td>280603</td>\n",
       "      <td>11th</td>\n",
       "      <td>7.0</td>\n",
       "      <td>Never-married</td>\n",
       "      <td>Sales</td>\n",
       "      <td>Own-child</td>\n",
       "      <td>White</td>\n",
       "      <td>Female</td>\n",
       "      <td>0.0</td>\n",
       "      <td>0.0</td>\n",
       "      <td>30</td>\n",
       "      <td>United-States</td>\n",
       "      <td>2</td>\n",
       "    </tr>\n",
       "    <tr>\n",
       "      <th>4</th>\n",
       "      <td>30</td>\n",
       "      <td>Private</td>\n",
       "      <td>36383</td>\n",
       "      <td>Bachelors</td>\n",
       "      <td>13.0</td>\n",
       "      <td>Married-civ-spouse</td>\n",
       "      <td>Sales</td>\n",
       "      <td>Husband</td>\n",
       "      <td>White</td>\n",
       "      <td>Male</td>\n",
       "      <td>0.0</td>\n",
       "      <td>0.0</td>\n",
       "      <td>40</td>\n",
       "      <td>Mexico</td>\n",
       "      <td>1</td>\n",
       "    </tr>\n",
       "  </tbody>\n",
       "</table>\n",
       "</div>"
      ],
      "text/plain": [
       "   age          workclass  fnlwgt   education  education_num  \\\n",
       "0   39            Private  147548     HS-grad            9.0   \n",
       "1   48            Private  195491     HS-grad            9.0   \n",
       "2   43   Self-emp-not-inc  198096     Masters           14.0   \n",
       "3   18            Private  280603        11th            7.0   \n",
       "4   30            Private   36383   Bachelors           13.0   \n",
       "\n",
       "        marital_status     occupation    relationship    race      sex  \\\n",
       "0   Married-civ-spouse   Craft-repair         Husband   White     Male   \n",
       "1             Divorced          Sales   Not-in-family   White   Female   \n",
       "2   Married-civ-spouse          Sales         Husband   White     Male   \n",
       "3        Never-married          Sales       Own-child   White   Female   \n",
       "4   Married-civ-spouse          Sales         Husband   White     Male   \n",
       "\n",
       "   capital_gain  capital_loss  hours_per_week  native_country  cluster_labels  \n",
       "0           0.0           0.0              40   United-States               5  \n",
       "1           0.0           0.0              30   United-States               3  \n",
       "2           0.0           0.0              60   United-States               1  \n",
       "3           0.0           0.0              30   United-States               2  \n",
       "4           0.0           0.0              40          Mexico               1  "
      ]
     },
     "execution_count": 40,
     "metadata": {},
     "output_type": "execute_result"
    }
   ],
   "source": [
    "X_train.head()"
   ]
  },
  {
   "cell_type": "code",
   "execution_count": 41,
   "id": "4bef6e17",
   "metadata": {},
   "outputs": [
    {
     "data": {
      "text/plain": [
       "5    1060245\n",
       "6    1008642\n",
       "1     598379\n",
       "0     587186\n",
       "3     583659\n",
       "8     480313\n",
       "2     432658\n",
       "7     224727\n",
       "4      24191\n",
       "Name: cluster_labels, dtype: int64"
      ]
     },
     "execution_count": 41,
     "metadata": {},
     "output_type": "execute_result"
    }
   ],
   "source": [
    "X_train['cluster_labels'].value_counts()"
   ]
  },
  {
   "cell_type": "code",
   "execution_count": 42,
   "id": "71aaddbe",
   "metadata": {},
   "outputs": [],
   "source": [
    "# Determining the threshold based on the value_counts() max and dividing it by 3 to get the approximate distribution as mentioned in the above target column distribution\n",
    "threshold = X_train['cluster_labels'].value_counts().idxmax() // 3\n",
    "\n",
    "# Created the label column based on the threshold\n",
    "X_train['label'] = X_train['cluster_labels'].apply(lambda x: 0 if x > threshold else 1)\n"
   ]
  },
  {
   "cell_type": "code",
   "execution_count": 43,
   "id": "b1de7ddd",
   "metadata": {},
   "outputs": [
    {
     "data": {
      "text/plain": [
       "0    3814435\n",
       "1    1185565\n",
       "Name: label, dtype: int64"
      ]
     },
     "execution_count": 43,
     "metadata": {},
     "output_type": "execute_result"
    }
   ],
   "source": [
    "X_train['label'].value_counts()"
   ]
  },
  {
   "cell_type": "code",
   "execution_count": 44,
   "id": "af77a72e",
   "metadata": {},
   "outputs": [
    {
     "data": {
      "text/html": [
       "<div>\n",
       "<style scoped>\n",
       "    .dataframe tbody tr th:only-of-type {\n",
       "        vertical-align: middle;\n",
       "    }\n",
       "\n",
       "    .dataframe tbody tr th {\n",
       "        vertical-align: top;\n",
       "    }\n",
       "\n",
       "    .dataframe thead th {\n",
       "        text-align: right;\n",
       "    }\n",
       "</style>\n",
       "<table border=\"1\" class=\"dataframe\">\n",
       "  <thead>\n",
       "    <tr style=\"text-align: right;\">\n",
       "      <th></th>\n",
       "      <th>age</th>\n",
       "      <th>workclass</th>\n",
       "      <th>fnlwgt</th>\n",
       "      <th>education</th>\n",
       "      <th>education_num</th>\n",
       "      <th>marital_status</th>\n",
       "      <th>occupation</th>\n",
       "      <th>relationship</th>\n",
       "      <th>race</th>\n",
       "      <th>sex</th>\n",
       "      <th>capital_gain</th>\n",
       "      <th>capital_loss</th>\n",
       "      <th>hours_per_week</th>\n",
       "      <th>native_country</th>\n",
       "      <th>cluster_labels</th>\n",
       "      <th>label</th>\n",
       "    </tr>\n",
       "  </thead>\n",
       "  <tbody>\n",
       "    <tr>\n",
       "      <th>0</th>\n",
       "      <td>39</td>\n",
       "      <td>Private</td>\n",
       "      <td>147548</td>\n",
       "      <td>HS-grad</td>\n",
       "      <td>9.0</td>\n",
       "      <td>Married-civ-spouse</td>\n",
       "      <td>Craft-repair</td>\n",
       "      <td>Husband</td>\n",
       "      <td>White</td>\n",
       "      <td>Male</td>\n",
       "      <td>0.0</td>\n",
       "      <td>0.0</td>\n",
       "      <td>40</td>\n",
       "      <td>United-States</td>\n",
       "      <td>5</td>\n",
       "      <td>0</td>\n",
       "    </tr>\n",
       "    <tr>\n",
       "      <th>1</th>\n",
       "      <td>48</td>\n",
       "      <td>Private</td>\n",
       "      <td>195491</td>\n",
       "      <td>HS-grad</td>\n",
       "      <td>9.0</td>\n",
       "      <td>Divorced</td>\n",
       "      <td>Sales</td>\n",
       "      <td>Not-in-family</td>\n",
       "      <td>White</td>\n",
       "      <td>Female</td>\n",
       "      <td>0.0</td>\n",
       "      <td>0.0</td>\n",
       "      <td>30</td>\n",
       "      <td>United-States</td>\n",
       "      <td>3</td>\n",
       "      <td>0</td>\n",
       "    </tr>\n",
       "    <tr>\n",
       "      <th>2</th>\n",
       "      <td>43</td>\n",
       "      <td>Self-emp-not-inc</td>\n",
       "      <td>198096</td>\n",
       "      <td>Masters</td>\n",
       "      <td>14.0</td>\n",
       "      <td>Married-civ-spouse</td>\n",
       "      <td>Sales</td>\n",
       "      <td>Husband</td>\n",
       "      <td>White</td>\n",
       "      <td>Male</td>\n",
       "      <td>0.0</td>\n",
       "      <td>0.0</td>\n",
       "      <td>60</td>\n",
       "      <td>United-States</td>\n",
       "      <td>1</td>\n",
       "      <td>1</td>\n",
       "    </tr>\n",
       "    <tr>\n",
       "      <th>3</th>\n",
       "      <td>18</td>\n",
       "      <td>Private</td>\n",
       "      <td>280603</td>\n",
       "      <td>11th</td>\n",
       "      <td>7.0</td>\n",
       "      <td>Never-married</td>\n",
       "      <td>Sales</td>\n",
       "      <td>Own-child</td>\n",
       "      <td>White</td>\n",
       "      <td>Female</td>\n",
       "      <td>0.0</td>\n",
       "      <td>0.0</td>\n",
       "      <td>30</td>\n",
       "      <td>United-States</td>\n",
       "      <td>2</td>\n",
       "      <td>0</td>\n",
       "    </tr>\n",
       "    <tr>\n",
       "      <th>4</th>\n",
       "      <td>30</td>\n",
       "      <td>Private</td>\n",
       "      <td>36383</td>\n",
       "      <td>Bachelors</td>\n",
       "      <td>13.0</td>\n",
       "      <td>Married-civ-spouse</td>\n",
       "      <td>Sales</td>\n",
       "      <td>Husband</td>\n",
       "      <td>White</td>\n",
       "      <td>Male</td>\n",
       "      <td>0.0</td>\n",
       "      <td>0.0</td>\n",
       "      <td>40</td>\n",
       "      <td>Mexico</td>\n",
       "      <td>1</td>\n",
       "      <td>1</td>\n",
       "    </tr>\n",
       "  </tbody>\n",
       "</table>\n",
       "</div>"
      ],
      "text/plain": [
       "   age          workclass  fnlwgt   education  education_num  \\\n",
       "0   39            Private  147548     HS-grad            9.0   \n",
       "1   48            Private  195491     HS-grad            9.0   \n",
       "2   43   Self-emp-not-inc  198096     Masters           14.0   \n",
       "3   18            Private  280603        11th            7.0   \n",
       "4   30            Private   36383   Bachelors           13.0   \n",
       "\n",
       "        marital_status     occupation    relationship    race      sex  \\\n",
       "0   Married-civ-spouse   Craft-repair         Husband   White     Male   \n",
       "1             Divorced          Sales   Not-in-family   White   Female   \n",
       "2   Married-civ-spouse          Sales         Husband   White     Male   \n",
       "3        Never-married          Sales       Own-child   White   Female   \n",
       "4   Married-civ-spouse          Sales         Husband   White     Male   \n",
       "\n",
       "   capital_gain  capital_loss  hours_per_week  native_country  cluster_labels  \\\n",
       "0           0.0           0.0              40   United-States               5   \n",
       "1           0.0           0.0              30   United-States               3   \n",
       "2           0.0           0.0              60   United-States               1   \n",
       "3           0.0           0.0              30   United-States               2   \n",
       "4           0.0           0.0              40          Mexico               1   \n",
       "\n",
       "   label  \n",
       "0      0  \n",
       "1      0  \n",
       "2      1  \n",
       "3      0  \n",
       "4      1  "
      ]
     },
     "execution_count": 44,
     "metadata": {},
     "output_type": "execute_result"
    }
   ],
   "source": [
    "X_train.head()"
   ]
  },
  {
   "cell_type": "code",
   "execution_count": 45,
   "id": "7ca26281",
   "metadata": {},
   "outputs": [],
   "source": [
    "X = X_train.iloc[:, :-2]\n",
    "y = X_train['label']"
   ]
  },
  {
   "cell_type": "code",
   "execution_count": 46,
   "id": "6e00f5f7",
   "metadata": {
    "scrolled": true
   },
   "outputs": [
    {
     "data": {
      "text/plain": [
       "Index(['age', 'workclass', 'fnlwgt', 'education', 'education_num',\n",
       "       'marital_status', 'occupation', 'relationship', 'race', 'sex',\n",
       "       'capital_gain', 'capital_loss', 'hours_per_week', 'native_country'],\n",
       "      dtype='object')"
      ]
     },
     "execution_count": 46,
     "metadata": {},
     "output_type": "execute_result"
    }
   ],
   "source": [
    "X.columns"
   ]
  },
  {
   "cell_type": "code",
   "execution_count": 47,
   "id": "d53000aa",
   "metadata": {},
   "outputs": [
    {
     "data": {
      "text/plain": [
       "0    3814435\n",
       "1    1185565\n",
       "Name: label, dtype: int64"
      ]
     },
     "execution_count": 47,
     "metadata": {},
     "output_type": "execute_result"
    }
   ],
   "source": [
    "y.value_counts()"
   ]
  },
  {
   "cell_type": "markdown",
   "id": "7c496dfb",
   "metadata": {},
   "source": [
    "## Read the final_X_test dataset which has test features"
   ]
  },
  {
   "cell_type": "code",
   "execution_count": 48,
   "id": "782a71c6",
   "metadata": {},
   "outputs": [],
   "source": [
    "X_test = pd.read_csv('final_X_test')"
   ]
  },
  {
   "cell_type": "markdown",
   "id": "d595a7f9",
   "metadata": {},
   "source": [
    "## View the head of test dataset features"
   ]
  },
  {
   "cell_type": "code",
   "execution_count": 49,
   "id": "1f0bb738",
   "metadata": {},
   "outputs": [
    {
     "data": {
      "text/html": [
       "<div>\n",
       "<style scoped>\n",
       "    .dataframe tbody tr th:only-of-type {\n",
       "        vertical-align: middle;\n",
       "    }\n",
       "\n",
       "    .dataframe tbody tr th {\n",
       "        vertical-align: top;\n",
       "    }\n",
       "\n",
       "    .dataframe thead th {\n",
       "        text-align: right;\n",
       "    }\n",
       "</style>\n",
       "<table border=\"1\" class=\"dataframe\">\n",
       "  <thead>\n",
       "    <tr style=\"text-align: right;\">\n",
       "      <th></th>\n",
       "      <th>age</th>\n",
       "      <th>workclass</th>\n",
       "      <th>fnlwgt</th>\n",
       "      <th>education</th>\n",
       "      <th>education_num</th>\n",
       "      <th>marital_status</th>\n",
       "      <th>occupation</th>\n",
       "      <th>relationship</th>\n",
       "      <th>race</th>\n",
       "      <th>sex</th>\n",
       "      <th>capital_gain</th>\n",
       "      <th>capital_loss</th>\n",
       "      <th>hours_per_week</th>\n",
       "      <th>native_country</th>\n",
       "    </tr>\n",
       "  </thead>\n",
       "  <tbody>\n",
       "    <tr>\n",
       "      <th>0</th>\n",
       "      <td>53</td>\n",
       "      <td>State-gov</td>\n",
       "      <td>33795</td>\n",
       "      <td>HS-grad</td>\n",
       "      <td>9</td>\n",
       "      <td>Married-civ-spouse</td>\n",
       "      <td>Handlers-cleaners</td>\n",
       "      <td>Husband</td>\n",
       "      <td>White</td>\n",
       "      <td>Male</td>\n",
       "      <td>0</td>\n",
       "      <td>0</td>\n",
       "      <td>40</td>\n",
       "      <td>United-States</td>\n",
       "    </tr>\n",
       "    <tr>\n",
       "      <th>1</th>\n",
       "      <td>54</td>\n",
       "      <td>Federal-gov</td>\n",
       "      <td>147629</td>\n",
       "      <td>Masters</td>\n",
       "      <td>14</td>\n",
       "      <td>Married-civ-spouse</td>\n",
       "      <td>Prof-specialty</td>\n",
       "      <td>Husband</td>\n",
       "      <td>White</td>\n",
       "      <td>Male</td>\n",
       "      <td>7298</td>\n",
       "      <td>0</td>\n",
       "      <td>35</td>\n",
       "      <td>United-States</td>\n",
       "    </tr>\n",
       "    <tr>\n",
       "      <th>2</th>\n",
       "      <td>38</td>\n",
       "      <td>Private</td>\n",
       "      <td>149347</td>\n",
       "      <td>HS-grad</td>\n",
       "      <td>9</td>\n",
       "      <td>Married-civ-spouse</td>\n",
       "      <td>Craft-repair</td>\n",
       "      <td>Husband</td>\n",
       "      <td>White</td>\n",
       "      <td>Male</td>\n",
       "      <td>0</td>\n",
       "      <td>0</td>\n",
       "      <td>40</td>\n",
       "      <td>United-States</td>\n",
       "    </tr>\n",
       "    <tr>\n",
       "      <th>3</th>\n",
       "      <td>33</td>\n",
       "      <td>Private</td>\n",
       "      <td>152744</td>\n",
       "      <td>Some-college</td>\n",
       "      <td>10</td>\n",
       "      <td>Never-married</td>\n",
       "      <td>Exec-managerial</td>\n",
       "      <td>Own-child</td>\n",
       "      <td>Asian-Pac-Islander</td>\n",
       "      <td>Female</td>\n",
       "      <td>0</td>\n",
       "      <td>0</td>\n",
       "      <td>40</td>\n",
       "      <td>United-States</td>\n",
       "    </tr>\n",
       "    <tr>\n",
       "      <th>4</th>\n",
       "      <td>54</td>\n",
       "      <td>Private</td>\n",
       "      <td>141272</td>\n",
       "      <td>HS-grad</td>\n",
       "      <td>9</td>\n",
       "      <td>Married-civ-spouse</td>\n",
       "      <td>Adm-clerical</td>\n",
       "      <td>Wife</td>\n",
       "      <td>White</td>\n",
       "      <td>Female</td>\n",
       "      <td>0</td>\n",
       "      <td>0</td>\n",
       "      <td>40</td>\n",
       "      <td>United-States</td>\n",
       "    </tr>\n",
       "  </tbody>\n",
       "</table>\n",
       "</div>"
      ],
      "text/plain": [
       "   age     workclass  fnlwgt      education  education_num  \\\n",
       "0   53     State-gov   33795        HS-grad              9   \n",
       "1   54   Federal-gov  147629        Masters             14   \n",
       "2   38       Private  149347        HS-grad              9   \n",
       "3   33       Private  152744   Some-college             10   \n",
       "4   54       Private  141272        HS-grad              9   \n",
       "\n",
       "        marital_status          occupation relationship                 race  \\\n",
       "0   Married-civ-spouse   Handlers-cleaners      Husband                White   \n",
       "1   Married-civ-spouse      Prof-specialty      Husband                White   \n",
       "2   Married-civ-spouse        Craft-repair      Husband                White   \n",
       "3        Never-married     Exec-managerial    Own-child   Asian-Pac-Islander   \n",
       "4   Married-civ-spouse        Adm-clerical         Wife                White   \n",
       "\n",
       "       sex  capital_gain  capital_loss  hours_per_week  native_country  \n",
       "0     Male             0             0              40   United-States  \n",
       "1     Male          7298             0              35   United-States  \n",
       "2     Male             0             0              40   United-States  \n",
       "3   Female             0             0              40   United-States  \n",
       "4   Female             0             0              40   United-States  "
      ]
     },
     "execution_count": 49,
     "metadata": {},
     "output_type": "execute_result"
    }
   ],
   "source": [
    "X_test.head()"
   ]
  },
  {
   "cell_type": "markdown",
   "id": "62221fa6",
   "metadata": {},
   "source": [
    "## Read the target column dataset"
   ]
  },
  {
   "cell_type": "code",
   "execution_count": 50,
   "id": "404f2e86",
   "metadata": {},
   "outputs": [],
   "source": [
    "y_test = pd.read_csv('final_y_test')"
   ]
  },
  {
   "cell_type": "markdown",
   "id": "98437802",
   "metadata": {},
   "source": [
    "## View the head of the target column dataset"
   ]
  },
  {
   "cell_type": "code",
   "execution_count": 51,
   "id": "2b63cd52",
   "metadata": {},
   "outputs": [
    {
     "data": {
      "text/html": [
       "<div>\n",
       "<style scoped>\n",
       "    .dataframe tbody tr th:only-of-type {\n",
       "        vertical-align: middle;\n",
       "    }\n",
       "\n",
       "    .dataframe tbody tr th {\n",
       "        vertical-align: top;\n",
       "    }\n",
       "\n",
       "    .dataframe thead th {\n",
       "        text-align: right;\n",
       "    }\n",
       "</style>\n",
       "<table border=\"1\" class=\"dataframe\">\n",
       "  <thead>\n",
       "    <tr style=\"text-align: right;\">\n",
       "      <th></th>\n",
       "      <th>class</th>\n",
       "    </tr>\n",
       "  </thead>\n",
       "  <tbody>\n",
       "    <tr>\n",
       "      <th>0</th>\n",
       "      <td>0</td>\n",
       "    </tr>\n",
       "    <tr>\n",
       "      <th>1</th>\n",
       "      <td>1</td>\n",
       "    </tr>\n",
       "    <tr>\n",
       "      <th>2</th>\n",
       "      <td>1</td>\n",
       "    </tr>\n",
       "    <tr>\n",
       "      <th>3</th>\n",
       "      <td>0</td>\n",
       "    </tr>\n",
       "    <tr>\n",
       "      <th>4</th>\n",
       "      <td>1</td>\n",
       "    </tr>\n",
       "  </tbody>\n",
       "</table>\n",
       "</div>"
      ],
      "text/plain": [
       "   class\n",
       "0      0\n",
       "1      1\n",
       "2      1\n",
       "3      0\n",
       "4      1"
      ]
     },
     "execution_count": 51,
     "metadata": {},
     "output_type": "execute_result"
    }
   ],
   "source": [
    "y_test.head()"
   ]
  },
  {
   "cell_type": "code",
   "execution_count": null,
   "id": "b76a48da",
   "metadata": {},
   "outputs": [],
   "source": []
  },
  {
   "cell_type": "markdown",
   "id": "d0d6d7f0",
   "metadata": {},
   "source": [
    "## Taking a sample of data"
   ]
  },
  {
   "cell_type": "code",
   "execution_count": 52,
   "id": "9e0f2283",
   "metadata": {},
   "outputs": [],
   "source": [
    "# Take a sample data of 100000\n",
    "sample_data = 100000  \n",
    "\n",
    "# The below statement will select randomly the sample_data from the original file\n",
    "X_train_sample = X_train.sample(n=sample_data, random_state=42)\n",
    "\n",
    "# Divide the sample data into X and y\n",
    "X_sample = X_train_sample.iloc[:, :-2]\n",
    "y_sample = X_train_sample['label']"
   ]
  },
  {
   "cell_type": "code",
   "execution_count": 53,
   "id": "74f8990f",
   "metadata": {},
   "outputs": [
    {
     "data": {
      "text/html": [
       "<div>\n",
       "<style scoped>\n",
       "    .dataframe tbody tr th:only-of-type {\n",
       "        vertical-align: middle;\n",
       "    }\n",
       "\n",
       "    .dataframe tbody tr th {\n",
       "        vertical-align: top;\n",
       "    }\n",
       "\n",
       "    .dataframe thead th {\n",
       "        text-align: right;\n",
       "    }\n",
       "</style>\n",
       "<table border=\"1\" class=\"dataframe\">\n",
       "  <thead>\n",
       "    <tr style=\"text-align: right;\">\n",
       "      <th></th>\n",
       "      <th>age</th>\n",
       "      <th>workclass</th>\n",
       "      <th>fnlwgt</th>\n",
       "      <th>education</th>\n",
       "      <th>education_num</th>\n",
       "      <th>marital_status</th>\n",
       "      <th>occupation</th>\n",
       "      <th>relationship</th>\n",
       "      <th>race</th>\n",
       "      <th>sex</th>\n",
       "      <th>capital_gain</th>\n",
       "      <th>capital_loss</th>\n",
       "      <th>hours_per_week</th>\n",
       "      <th>native_country</th>\n",
       "    </tr>\n",
       "  </thead>\n",
       "  <tbody>\n",
       "    <tr>\n",
       "      <th>3577888</th>\n",
       "      <td>53</td>\n",
       "      <td>Private</td>\n",
       "      <td>281425</td>\n",
       "      <td>HS-grad</td>\n",
       "      <td>9.0</td>\n",
       "      <td>Married-civ-spouse</td>\n",
       "      <td>Craft-repair</td>\n",
       "      <td>Husband</td>\n",
       "      <td>White</td>\n",
       "      <td>Male</td>\n",
       "      <td>0.0</td>\n",
       "      <td>0.0</td>\n",
       "      <td>40</td>\n",
       "      <td>United-States</td>\n",
       "    </tr>\n",
       "    <tr>\n",
       "      <th>4993932</th>\n",
       "      <td>19</td>\n",
       "      <td>?</td>\n",
       "      <td>28967</td>\n",
       "      <td>Some-college</td>\n",
       "      <td>10.0</td>\n",
       "      <td>Never-married</td>\n",
       "      <td>?</td>\n",
       "      <td>Not-in-family</td>\n",
       "      <td>White</td>\n",
       "      <td>Male</td>\n",
       "      <td>0.0</td>\n",
       "      <td>0.0</td>\n",
       "      <td>40</td>\n",
       "      <td>United-States</td>\n",
       "    </tr>\n",
       "    <tr>\n",
       "      <th>4094900</th>\n",
       "      <td>30</td>\n",
       "      <td>Self-emp-not-inc</td>\n",
       "      <td>67072</td>\n",
       "      <td>Bachelors</td>\n",
       "      <td>13.0</td>\n",
       "      <td>Married-spouse-absent</td>\n",
       "      <td>Craft-repair</td>\n",
       "      <td>Not-in-family</td>\n",
       "      <td>White</td>\n",
       "      <td>Male</td>\n",
       "      <td>6849.0</td>\n",
       "      <td>0.0</td>\n",
       "      <td>60</td>\n",
       "      <td>United-States</td>\n",
       "    </tr>\n",
       "    <tr>\n",
       "      <th>4420497</th>\n",
       "      <td>32</td>\n",
       "      <td>Private</td>\n",
       "      <td>53260</td>\n",
       "      <td>HS-grad</td>\n",
       "      <td>9.0</td>\n",
       "      <td>Divorced</td>\n",
       "      <td>Other-service</td>\n",
       "      <td>Unmarried</td>\n",
       "      <td>Other</td>\n",
       "      <td>Female</td>\n",
       "      <td>0.0</td>\n",
       "      <td>0.0</td>\n",
       "      <td>28</td>\n",
       "      <td>United-States</td>\n",
       "    </tr>\n",
       "    <tr>\n",
       "      <th>634465</th>\n",
       "      <td>17</td>\n",
       "      <td>Self-emp-inc</td>\n",
       "      <td>143034</td>\n",
       "      <td>10th</td>\n",
       "      <td>6.0</td>\n",
       "      <td>Never-married</td>\n",
       "      <td>Other-service</td>\n",
       "      <td>Own-child</td>\n",
       "      <td>White</td>\n",
       "      <td>Male</td>\n",
       "      <td>0.0</td>\n",
       "      <td>0.0</td>\n",
       "      <td>4</td>\n",
       "      <td>United-States</td>\n",
       "    </tr>\n",
       "  </tbody>\n",
       "</table>\n",
       "</div>"
      ],
      "text/plain": [
       "         age          workclass  fnlwgt      education  education_num  \\\n",
       "3577888   53            Private  281425        HS-grad            9.0   \n",
       "4993932   19                  ?   28967   Some-college           10.0   \n",
       "4094900   30   Self-emp-not-inc   67072      Bachelors           13.0   \n",
       "4420497   32            Private   53260        HS-grad            9.0   \n",
       "634465    17       Self-emp-inc  143034           10th            6.0   \n",
       "\n",
       "                 marital_status      occupation    relationship    race  \\\n",
       "3577888      Married-civ-spouse    Craft-repair         Husband   White   \n",
       "4993932           Never-married               ?   Not-in-family   White   \n",
       "4094900   Married-spouse-absent    Craft-repair   Not-in-family   White   \n",
       "4420497                Divorced   Other-service       Unmarried   Other   \n",
       "634465            Never-married   Other-service       Own-child   White   \n",
       "\n",
       "             sex  capital_gain  capital_loss  hours_per_week  native_country  \n",
       "3577888     Male           0.0           0.0              40   United-States  \n",
       "4993932     Male           0.0           0.0              40   United-States  \n",
       "4094900     Male        6849.0           0.0              60   United-States  \n",
       "4420497   Female           0.0           0.0              28   United-States  \n",
       "634465      Male           0.0           0.0               4   United-States  "
      ]
     },
     "execution_count": 53,
     "metadata": {},
     "output_type": "execute_result"
    }
   ],
   "source": [
    "X_sample.head()"
   ]
  },
  {
   "cell_type": "code",
   "execution_count": 54,
   "id": "a7850cfa",
   "metadata": {},
   "outputs": [
    {
     "data": {
      "text/plain": [
       "3577888    0\n",
       "4993932    0\n",
       "4094900    1\n",
       "4420497    0\n",
       "634465     0\n",
       "Name: label, dtype: int64"
      ]
     },
     "execution_count": 54,
     "metadata": {},
     "output_type": "execute_result"
    }
   ],
   "source": [
    "y_sample.head()"
   ]
  },
  {
   "cell_type": "markdown",
   "id": "bf888917",
   "metadata": {},
   "source": [
    "# Implementing the logistic regression"
   ]
  },
  {
   "cell_type": "code",
   "execution_count": 55,
   "id": "088ab14d",
   "metadata": {},
   "outputs": [],
   "source": [
    "lr_pipeline = Pipeline([\n",
    "    ('preprocessor', preprocessor),\n",
    "    ('classifier', LogisticRegression(random_state=42))\n",
    "])"
   ]
  },
  {
   "cell_type": "markdown",
   "id": "40deb7c6",
   "metadata": {},
   "source": [
    "## Fit the pipeline for X_train and y_train"
   ]
  },
  {
   "cell_type": "code",
   "execution_count": 56,
   "id": "53dec8e4",
   "metadata": {},
   "outputs": [
    {
     "data": {
      "text/html": [
       "<style>#sk-container-id-1 {color: black;background-color: white;}#sk-container-id-1 pre{padding: 0;}#sk-container-id-1 div.sk-toggleable {background-color: white;}#sk-container-id-1 label.sk-toggleable__label {cursor: pointer;display: block;width: 100%;margin-bottom: 0;padding: 0.3em;box-sizing: border-box;text-align: center;}#sk-container-id-1 label.sk-toggleable__label-arrow:before {content: \"▸\";float: left;margin-right: 0.25em;color: #696969;}#sk-container-id-1 label.sk-toggleable__label-arrow:hover:before {color: black;}#sk-container-id-1 div.sk-estimator:hover label.sk-toggleable__label-arrow:before {color: black;}#sk-container-id-1 div.sk-toggleable__content {max-height: 0;max-width: 0;overflow: hidden;text-align: left;background-color: #f0f8ff;}#sk-container-id-1 div.sk-toggleable__content pre {margin: 0.2em;color: black;border-radius: 0.25em;background-color: #f0f8ff;}#sk-container-id-1 input.sk-toggleable__control:checked~div.sk-toggleable__content {max-height: 200px;max-width: 100%;overflow: auto;}#sk-container-id-1 input.sk-toggleable__control:checked~label.sk-toggleable__label-arrow:before {content: \"▾\";}#sk-container-id-1 div.sk-estimator input.sk-toggleable__control:checked~label.sk-toggleable__label {background-color: #d4ebff;}#sk-container-id-1 div.sk-label input.sk-toggleable__control:checked~label.sk-toggleable__label {background-color: #d4ebff;}#sk-container-id-1 input.sk-hidden--visually {border: 0;clip: rect(1px 1px 1px 1px);clip: rect(1px, 1px, 1px, 1px);height: 1px;margin: -1px;overflow: hidden;padding: 0;position: absolute;width: 1px;}#sk-container-id-1 div.sk-estimator {font-family: monospace;background-color: #f0f8ff;border: 1px dotted black;border-radius: 0.25em;box-sizing: border-box;margin-bottom: 0.5em;}#sk-container-id-1 div.sk-estimator:hover {background-color: #d4ebff;}#sk-container-id-1 div.sk-parallel-item::after {content: \"\";width: 100%;border-bottom: 1px solid gray;flex-grow: 1;}#sk-container-id-1 div.sk-label:hover label.sk-toggleable__label {background-color: #d4ebff;}#sk-container-id-1 div.sk-serial::before {content: \"\";position: absolute;border-left: 1px solid gray;box-sizing: border-box;top: 0;bottom: 0;left: 50%;z-index: 0;}#sk-container-id-1 div.sk-serial {display: flex;flex-direction: column;align-items: center;background-color: white;padding-right: 0.2em;padding-left: 0.2em;position: relative;}#sk-container-id-1 div.sk-item {position: relative;z-index: 1;}#sk-container-id-1 div.sk-parallel {display: flex;align-items: stretch;justify-content: center;background-color: white;position: relative;}#sk-container-id-1 div.sk-item::before, #sk-container-id-1 div.sk-parallel-item::before {content: \"\";position: absolute;border-left: 1px solid gray;box-sizing: border-box;top: 0;bottom: 0;left: 50%;z-index: -1;}#sk-container-id-1 div.sk-parallel-item {display: flex;flex-direction: column;z-index: 1;position: relative;background-color: white;}#sk-container-id-1 div.sk-parallel-item:first-child::after {align-self: flex-end;width: 50%;}#sk-container-id-1 div.sk-parallel-item:last-child::after {align-self: flex-start;width: 50%;}#sk-container-id-1 div.sk-parallel-item:only-child::after {width: 0;}#sk-container-id-1 div.sk-dashed-wrapped {border: 1px dashed gray;margin: 0 0.4em 0.5em 0.4em;box-sizing: border-box;padding-bottom: 0.4em;background-color: white;}#sk-container-id-1 div.sk-label label {font-family: monospace;font-weight: bold;display: inline-block;line-height: 1.2em;}#sk-container-id-1 div.sk-label-container {text-align: center;}#sk-container-id-1 div.sk-container {/* jupyter's `normalize.less` sets `[hidden] { display: none; }` but bootstrap.min.css set `[hidden] { display: none !important; }` so we also need the `!important` here to be able to override the default hidden behavior on the sphinx rendered scikit-learn.org. See: https://github.com/scikit-learn/scikit-learn/issues/21755 */display: inline-block !important;position: relative;}#sk-container-id-1 div.sk-text-repr-fallback {display: none;}</style><div id=\"sk-container-id-1\" class=\"sk-top-container\"><div class=\"sk-text-repr-fallback\"><pre>Pipeline(steps=[(&#x27;preprocessor&#x27;,\n",
       "                 ColumnTransformer(transformers=[(&#x27;numerical&#x27;,\n",
       "                                                  Pipeline(steps=[(&#x27;imputer&#x27;,\n",
       "                                                                   SimpleImputer()),\n",
       "                                                                  (&#x27;scaler&#x27;,\n",
       "                                                                   StandardScaler(with_mean=False))]),\n",
       "                                                  Index([&#x27;age&#x27;, &#x27;fnlwgt&#x27;, &#x27;education_num&#x27;, &#x27;capital_gain&#x27;, &#x27;capital_loss&#x27;,\n",
       "       &#x27;hours_per_week&#x27;],\n",
       "      dtype=&#x27;object&#x27;)),\n",
       "                                                 (&#x27;categorical&#x27;,\n",
       "                                                  Pipeline(steps=[(&#x27;imputer&#x27;,\n",
       "                                                                   SimpleImputer(strategy=&#x27;most_frequent&#x27;)),\n",
       "                                                                  (&#x27;onehot&#x27;,\n",
       "                                                                   OneHotEncoder(handle_unknown=&#x27;ignore&#x27;,\n",
       "                                                                                 sparse=True))]),\n",
       "                                                  Index([&#x27;workclass&#x27;, &#x27;education&#x27;, &#x27;marital_status&#x27;, &#x27;occupation&#x27;,\n",
       "       &#x27;relationship&#x27;, &#x27;race&#x27;, &#x27;sex&#x27;, &#x27;native_country&#x27;],\n",
       "      dtype=&#x27;object&#x27;))])),\n",
       "                (&#x27;classifier&#x27;, LogisticRegression(random_state=42))])</pre><b>In a Jupyter environment, please rerun this cell to show the HTML representation or trust the notebook. <br />On GitHub, the HTML representation is unable to render, please try loading this page with nbviewer.org.</b></div><div class=\"sk-container\" hidden><div class=\"sk-item sk-dashed-wrapped\"><div class=\"sk-label-container\"><div class=\"sk-label sk-toggleable\"><input class=\"sk-toggleable__control sk-hidden--visually\" id=\"sk-estimator-id-1\" type=\"checkbox\" ><label for=\"sk-estimator-id-1\" class=\"sk-toggleable__label sk-toggleable__label-arrow\">Pipeline</label><div class=\"sk-toggleable__content\"><pre>Pipeline(steps=[(&#x27;preprocessor&#x27;,\n",
       "                 ColumnTransformer(transformers=[(&#x27;numerical&#x27;,\n",
       "                                                  Pipeline(steps=[(&#x27;imputer&#x27;,\n",
       "                                                                   SimpleImputer()),\n",
       "                                                                  (&#x27;scaler&#x27;,\n",
       "                                                                   StandardScaler(with_mean=False))]),\n",
       "                                                  Index([&#x27;age&#x27;, &#x27;fnlwgt&#x27;, &#x27;education_num&#x27;, &#x27;capital_gain&#x27;, &#x27;capital_loss&#x27;,\n",
       "       &#x27;hours_per_week&#x27;],\n",
       "      dtype=&#x27;object&#x27;)),\n",
       "                                                 (&#x27;categorical&#x27;,\n",
       "                                                  Pipeline(steps=[(&#x27;imputer&#x27;,\n",
       "                                                                   SimpleImputer(strategy=&#x27;most_frequent&#x27;)),\n",
       "                                                                  (&#x27;onehot&#x27;,\n",
       "                                                                   OneHotEncoder(handle_unknown=&#x27;ignore&#x27;,\n",
       "                                                                                 sparse=True))]),\n",
       "                                                  Index([&#x27;workclass&#x27;, &#x27;education&#x27;, &#x27;marital_status&#x27;, &#x27;occupation&#x27;,\n",
       "       &#x27;relationship&#x27;, &#x27;race&#x27;, &#x27;sex&#x27;, &#x27;native_country&#x27;],\n",
       "      dtype=&#x27;object&#x27;))])),\n",
       "                (&#x27;classifier&#x27;, LogisticRegression(random_state=42))])</pre></div></div></div><div class=\"sk-serial\"><div class=\"sk-item sk-dashed-wrapped\"><div class=\"sk-label-container\"><div class=\"sk-label sk-toggleable\"><input class=\"sk-toggleable__control sk-hidden--visually\" id=\"sk-estimator-id-2\" type=\"checkbox\" ><label for=\"sk-estimator-id-2\" class=\"sk-toggleable__label sk-toggleable__label-arrow\">preprocessor: ColumnTransformer</label><div class=\"sk-toggleable__content\"><pre>ColumnTransformer(transformers=[(&#x27;numerical&#x27;,\n",
       "                                 Pipeline(steps=[(&#x27;imputer&#x27;, SimpleImputer()),\n",
       "                                                 (&#x27;scaler&#x27;,\n",
       "                                                  StandardScaler(with_mean=False))]),\n",
       "                                 Index([&#x27;age&#x27;, &#x27;fnlwgt&#x27;, &#x27;education_num&#x27;, &#x27;capital_gain&#x27;, &#x27;capital_loss&#x27;,\n",
       "       &#x27;hours_per_week&#x27;],\n",
       "      dtype=&#x27;object&#x27;)),\n",
       "                                (&#x27;categorical&#x27;,\n",
       "                                 Pipeline(steps=[(&#x27;imputer&#x27;,\n",
       "                                                  SimpleImputer(strategy=&#x27;most_frequent&#x27;)),\n",
       "                                                 (&#x27;onehot&#x27;,\n",
       "                                                  OneHotEncoder(handle_unknown=&#x27;ignore&#x27;,\n",
       "                                                                sparse=True))]),\n",
       "                                 Index([&#x27;workclass&#x27;, &#x27;education&#x27;, &#x27;marital_status&#x27;, &#x27;occupation&#x27;,\n",
       "       &#x27;relationship&#x27;, &#x27;race&#x27;, &#x27;sex&#x27;, &#x27;native_country&#x27;],\n",
       "      dtype=&#x27;object&#x27;))])</pre></div></div></div><div class=\"sk-parallel\"><div class=\"sk-parallel-item\"><div class=\"sk-item\"><div class=\"sk-label-container\"><div class=\"sk-label sk-toggleable\"><input class=\"sk-toggleable__control sk-hidden--visually\" id=\"sk-estimator-id-3\" type=\"checkbox\" ><label for=\"sk-estimator-id-3\" class=\"sk-toggleable__label sk-toggleable__label-arrow\">numerical</label><div class=\"sk-toggleable__content\"><pre>Index([&#x27;age&#x27;, &#x27;fnlwgt&#x27;, &#x27;education_num&#x27;, &#x27;capital_gain&#x27;, &#x27;capital_loss&#x27;,\n",
       "       &#x27;hours_per_week&#x27;],\n",
       "      dtype=&#x27;object&#x27;)</pre></div></div></div><div class=\"sk-serial\"><div class=\"sk-item\"><div class=\"sk-serial\"><div class=\"sk-item\"><div class=\"sk-estimator sk-toggleable\"><input class=\"sk-toggleable__control sk-hidden--visually\" id=\"sk-estimator-id-4\" type=\"checkbox\" ><label for=\"sk-estimator-id-4\" class=\"sk-toggleable__label sk-toggleable__label-arrow\">SimpleImputer</label><div class=\"sk-toggleable__content\"><pre>SimpleImputer()</pre></div></div></div><div class=\"sk-item\"><div class=\"sk-estimator sk-toggleable\"><input class=\"sk-toggleable__control sk-hidden--visually\" id=\"sk-estimator-id-5\" type=\"checkbox\" ><label for=\"sk-estimator-id-5\" class=\"sk-toggleable__label sk-toggleable__label-arrow\">StandardScaler</label><div class=\"sk-toggleable__content\"><pre>StandardScaler(with_mean=False)</pre></div></div></div></div></div></div></div></div><div class=\"sk-parallel-item\"><div class=\"sk-item\"><div class=\"sk-label-container\"><div class=\"sk-label sk-toggleable\"><input class=\"sk-toggleable__control sk-hidden--visually\" id=\"sk-estimator-id-6\" type=\"checkbox\" ><label for=\"sk-estimator-id-6\" class=\"sk-toggleable__label sk-toggleable__label-arrow\">categorical</label><div class=\"sk-toggleable__content\"><pre>Index([&#x27;workclass&#x27;, &#x27;education&#x27;, &#x27;marital_status&#x27;, &#x27;occupation&#x27;,\n",
       "       &#x27;relationship&#x27;, &#x27;race&#x27;, &#x27;sex&#x27;, &#x27;native_country&#x27;],\n",
       "      dtype=&#x27;object&#x27;)</pre></div></div></div><div class=\"sk-serial\"><div class=\"sk-item\"><div class=\"sk-serial\"><div class=\"sk-item\"><div class=\"sk-estimator sk-toggleable\"><input class=\"sk-toggleable__control sk-hidden--visually\" id=\"sk-estimator-id-7\" type=\"checkbox\" ><label for=\"sk-estimator-id-7\" class=\"sk-toggleable__label sk-toggleable__label-arrow\">SimpleImputer</label><div class=\"sk-toggleable__content\"><pre>SimpleImputer(strategy=&#x27;most_frequent&#x27;)</pre></div></div></div><div class=\"sk-item\"><div class=\"sk-estimator sk-toggleable\"><input class=\"sk-toggleable__control sk-hidden--visually\" id=\"sk-estimator-id-8\" type=\"checkbox\" ><label for=\"sk-estimator-id-8\" class=\"sk-toggleable__label sk-toggleable__label-arrow\">OneHotEncoder</label><div class=\"sk-toggleable__content\"><pre>OneHotEncoder(handle_unknown=&#x27;ignore&#x27;, sparse=True)</pre></div></div></div></div></div></div></div></div></div></div><div class=\"sk-item\"><div class=\"sk-estimator sk-toggleable\"><input class=\"sk-toggleable__control sk-hidden--visually\" id=\"sk-estimator-id-9\" type=\"checkbox\" ><label for=\"sk-estimator-id-9\" class=\"sk-toggleable__label sk-toggleable__label-arrow\">LogisticRegression</label><div class=\"sk-toggleable__content\"><pre>LogisticRegression(random_state=42)</pre></div></div></div></div></div></div></div>"
      ],
      "text/plain": [
       "Pipeline(steps=[('preprocessor',\n",
       "                 ColumnTransformer(transformers=[('numerical',\n",
       "                                                  Pipeline(steps=[('imputer',\n",
       "                                                                   SimpleImputer()),\n",
       "                                                                  ('scaler',\n",
       "                                                                   StandardScaler(with_mean=False))]),\n",
       "                                                  Index(['age', 'fnlwgt', 'education_num', 'capital_gain', 'capital_loss',\n",
       "       'hours_per_week'],\n",
       "      dtype='object')),\n",
       "                                                 ('categorical',\n",
       "                                                  Pipeline(steps=[('imputer',\n",
       "                                                                   SimpleImputer(strategy='most_frequent')),\n",
       "                                                                  ('onehot',\n",
       "                                                                   OneHotEncoder(handle_unknown='ignore',\n",
       "                                                                                 sparse=True))]),\n",
       "                                                  Index(['workclass', 'education', 'marital_status', 'occupation',\n",
       "       'relationship', 'race', 'sex', 'native_country'],\n",
       "      dtype='object'))])),\n",
       "                ('classifier', LogisticRegression(random_state=42))])"
      ]
     },
     "execution_count": 56,
     "metadata": {},
     "output_type": "execute_result"
    }
   ],
   "source": [
    "lr_pipeline.fit(X_sample, y_sample)"
   ]
  },
  {
   "cell_type": "markdown",
   "id": "c9cf0eaf",
   "metadata": {},
   "source": [
    "## Evaluation of training data "
   ]
  },
  {
   "cell_type": "code",
   "execution_count": 57,
   "id": "924934ce",
   "metadata": {},
   "outputs": [
    {
     "data": {
      "text/plain": [
       "array([[9.99928498e-01, 7.15023106e-05],\n",
       "       [9.99992325e-01, 7.67534731e-06],\n",
       "       [3.74491018e-03, 9.96255090e-01],\n",
       "       [9.99588672e-01, 4.11328132e-04],\n",
       "       [9.99999995e-01, 4.68940522e-09]])"
      ]
     },
     "execution_count": 57,
     "metadata": {},
     "output_type": "execute_result"
    }
   ],
   "source": [
    "y_train_predictions = lr_pipeline.predict_proba(X_sample)\n",
    "y_train_predictions[:5]"
   ]
  },
  {
   "cell_type": "code",
   "execution_count": 58,
   "id": "29455761",
   "metadata": {},
   "outputs": [
    {
     "name": "stdout",
     "output_type": "stream",
     "text": [
      "[[74579  1644]\n",
      " [ 1106 22671]]\n"
     ]
    }
   ],
   "source": [
    "from sklearn.metrics import confusion_matrix\n",
    "\n",
    "y_train_predictions = lr_pipeline.predict(X_sample)\n",
    "\n",
    "print(confusion_matrix(y_sample, y_train_predictions))"
   ]
  },
  {
   "cell_type": "code",
   "execution_count": 59,
   "id": "67641f9a",
   "metadata": {},
   "outputs": [
    {
     "name": "stdout",
     "output_type": "stream",
     "text": [
      "              precision    recall  f1-score   support\n",
      "\n",
      "           0       0.99      0.98      0.98     76223\n",
      "           1       0.93      0.95      0.94     23777\n",
      "\n",
      "    accuracy                           0.97    100000\n",
      "   macro avg       0.96      0.97      0.96    100000\n",
      "weighted avg       0.97      0.97      0.97    100000\n",
      "\n"
     ]
    }
   ],
   "source": [
    "from sklearn.metrics import classification_report\n",
    "print(classification_report(y_sample, y_train_predictions))"
   ]
  },
  {
   "cell_type": "markdown",
   "id": "a4e9a151",
   "metadata": {},
   "source": [
    "## Evaluation of testing data"
   ]
  },
  {
   "cell_type": "code",
   "execution_count": 60,
   "id": "fd35bc47",
   "metadata": {},
   "outputs": [
    {
     "data": {
      "text/plain": [
       "array([[9.97998141e-01, 2.00185917e-03],\n",
       "       [1.81176018e-02, 9.81882398e-01],\n",
       "       [9.99662487e-01, 3.37513169e-04],\n",
       "       [9.99996384e-01, 3.61563489e-06],\n",
       "       [9.99195035e-01, 8.04965361e-04]])"
      ]
     },
     "execution_count": 60,
     "metadata": {},
     "output_type": "execute_result"
    }
   ],
   "source": [
    "y_test_predictions = lr_pipeline.predict_proba(X_test)\n",
    "y_test_predictions[:5]"
   ]
  },
  {
   "cell_type": "code",
   "execution_count": 61,
   "id": "303708df",
   "metadata": {},
   "outputs": [
    {
     "name": "stdout",
     "output_type": "stream",
     "text": [
      "[[18713  4177]\n",
      " [ 3931  3179]]\n"
     ]
    }
   ],
   "source": [
    "from sklearn.metrics import confusion_matrix\n",
    "\n",
    "y_test_predictions = lr_pipeline.predict(X_test)\n",
    "\n",
    "print(confusion_matrix(y_test, y_test_predictions))"
   ]
  },
  {
   "cell_type": "code",
   "execution_count": 62,
   "id": "4cd72332",
   "metadata": {},
   "outputs": [
    {
     "name": "stdout",
     "output_type": "stream",
     "text": [
      "              precision    recall  f1-score   support\n",
      "\n",
      "           0       0.83      0.82      0.82     22890\n",
      "           1       0.43      0.45      0.44      7110\n",
      "\n",
      "    accuracy                           0.73     30000\n",
      "   macro avg       0.63      0.63      0.63     30000\n",
      "weighted avg       0.73      0.73      0.73     30000\n",
      "\n"
     ]
    }
   ],
   "source": [
    "from sklearn.metrics import classification_report\n",
    "print(classification_report(y_test, y_test_predictions))"
   ]
  },
  {
   "cell_type": "code",
   "execution_count": 63,
   "id": "01ce4b14",
   "metadata": {},
   "outputs": [
    {
     "name": "stdout",
     "output_type": "stream",
     "text": [
      "Accuracy of logistic regression of training dataset is:  97.25\n"
     ]
    }
   ],
   "source": [
    "from sklearn.metrics import accuracy_score\n",
    "\n",
    "log_train_accuracy = accuracy_score(y_sample,y_train_predictions)\n",
    "\n",
    "print(\"Accuracy of logistic regression of training dataset is: \",log_train_accuracy*100)"
   ]
  },
  {
   "cell_type": "code",
   "execution_count": 64,
   "id": "34252163",
   "metadata": {},
   "outputs": [
    {
     "name": "stdout",
     "output_type": "stream",
     "text": [
      "Accuracy of logistic regression of testing dataset is:  72.97333333333333\n"
     ]
    }
   ],
   "source": [
    "from sklearn.metrics import accuracy_score\n",
    "\n",
    "log_test_accuracy = accuracy_score(y_test,y_test_predictions)\n",
    "\n",
    "print(\"Accuracy of logistic regression of testing dataset is: \",log_test_accuracy*100)"
   ]
  },
  {
   "cell_type": "markdown",
   "id": "5f3bd00f",
   "metadata": {},
   "source": [
    "**In the above cells, we have done the following:-**\n",
    "- Created a pipeline for the model.\n",
    "- Fitted the pipeline to the train dataset.\n",
    "- Evaluated the model on both training and testing dataset.\n",
    "- Got the classification report and confusion matrix for both the datasets.\n",
    "- Calculated the accuracy of both the datasets.\n",
    "\n",
    "**We have found that training accuracy for this model is 97.29 and testing accuracy is 72.9 which clearly states that this model does have overfitting which means this model might not be the best fit for this data.**"
   ]
  },
  {
   "cell_type": "markdown",
   "id": "24b7bd12",
   "metadata": {},
   "source": [
    "# Performing cross-validation for logistic regression"
   ]
  },
  {
   "cell_type": "code",
   "execution_count": 65,
   "id": "5d09235e",
   "metadata": {},
   "outputs": [
    {
     "name": "stdout",
     "output_type": "stream",
     "text": [
      "Cross-Validation Scores of Logistic Regression: [0.974   0.9708  0.9727  0.97415 0.97125]\n"
     ]
    }
   ],
   "source": [
    "from sklearn.model_selection import cross_val_score\n",
    "lr_scores = cross_val_score(lr_pipeline, X_sample, y_sample, cv=5)\n",
    "print(\"Cross-Validation Scores of Logistic Regression:\", lr_scores)"
   ]
  },
  {
   "cell_type": "markdown",
   "id": "eb01329c",
   "metadata": {},
   "source": [
    "**In the above cell, Cross-validation for logistic regression is done. As cross-validation validates on unseen data, getting an accuracy of 97 percent for this metric also states that this model is the best fit for this data.**"
   ]
  },
  {
   "cell_type": "markdown",
   "id": "9effbec4",
   "metadata": {},
   "source": [
    "# Implementing Logistic Regression with K-Means"
   ]
  },
  {
   "cell_type": "code",
   "execution_count": 66,
   "id": "2983445a",
   "metadata": {},
   "outputs": [],
   "source": [
    "lrk_pipeline = Pipeline([\n",
    "    ('preprocessor', preprocessor),\n",
    "    ('kmeans', KMeans(n_clusters=9)),\n",
    "    ('logreg', LogisticRegression())\n",
    "])"
   ]
  },
  {
   "cell_type": "code",
   "execution_count": 67,
   "id": "449862bd",
   "metadata": {},
   "outputs": [
    {
     "data": {
      "text/html": [
       "<style>#sk-container-id-2 {color: black;background-color: white;}#sk-container-id-2 pre{padding: 0;}#sk-container-id-2 div.sk-toggleable {background-color: white;}#sk-container-id-2 label.sk-toggleable__label {cursor: pointer;display: block;width: 100%;margin-bottom: 0;padding: 0.3em;box-sizing: border-box;text-align: center;}#sk-container-id-2 label.sk-toggleable__label-arrow:before {content: \"▸\";float: left;margin-right: 0.25em;color: #696969;}#sk-container-id-2 label.sk-toggleable__label-arrow:hover:before {color: black;}#sk-container-id-2 div.sk-estimator:hover label.sk-toggleable__label-arrow:before {color: black;}#sk-container-id-2 div.sk-toggleable__content {max-height: 0;max-width: 0;overflow: hidden;text-align: left;background-color: #f0f8ff;}#sk-container-id-2 div.sk-toggleable__content pre {margin: 0.2em;color: black;border-radius: 0.25em;background-color: #f0f8ff;}#sk-container-id-2 input.sk-toggleable__control:checked~div.sk-toggleable__content {max-height: 200px;max-width: 100%;overflow: auto;}#sk-container-id-2 input.sk-toggleable__control:checked~label.sk-toggleable__label-arrow:before {content: \"▾\";}#sk-container-id-2 div.sk-estimator input.sk-toggleable__control:checked~label.sk-toggleable__label {background-color: #d4ebff;}#sk-container-id-2 div.sk-label input.sk-toggleable__control:checked~label.sk-toggleable__label {background-color: #d4ebff;}#sk-container-id-2 input.sk-hidden--visually {border: 0;clip: rect(1px 1px 1px 1px);clip: rect(1px, 1px, 1px, 1px);height: 1px;margin: -1px;overflow: hidden;padding: 0;position: absolute;width: 1px;}#sk-container-id-2 div.sk-estimator {font-family: monospace;background-color: #f0f8ff;border: 1px dotted black;border-radius: 0.25em;box-sizing: border-box;margin-bottom: 0.5em;}#sk-container-id-2 div.sk-estimator:hover {background-color: #d4ebff;}#sk-container-id-2 div.sk-parallel-item::after {content: \"\";width: 100%;border-bottom: 1px solid gray;flex-grow: 1;}#sk-container-id-2 div.sk-label:hover label.sk-toggleable__label {background-color: #d4ebff;}#sk-container-id-2 div.sk-serial::before {content: \"\";position: absolute;border-left: 1px solid gray;box-sizing: border-box;top: 0;bottom: 0;left: 50%;z-index: 0;}#sk-container-id-2 div.sk-serial {display: flex;flex-direction: column;align-items: center;background-color: white;padding-right: 0.2em;padding-left: 0.2em;position: relative;}#sk-container-id-2 div.sk-item {position: relative;z-index: 1;}#sk-container-id-2 div.sk-parallel {display: flex;align-items: stretch;justify-content: center;background-color: white;position: relative;}#sk-container-id-2 div.sk-item::before, #sk-container-id-2 div.sk-parallel-item::before {content: \"\";position: absolute;border-left: 1px solid gray;box-sizing: border-box;top: 0;bottom: 0;left: 50%;z-index: -1;}#sk-container-id-2 div.sk-parallel-item {display: flex;flex-direction: column;z-index: 1;position: relative;background-color: white;}#sk-container-id-2 div.sk-parallel-item:first-child::after {align-self: flex-end;width: 50%;}#sk-container-id-2 div.sk-parallel-item:last-child::after {align-self: flex-start;width: 50%;}#sk-container-id-2 div.sk-parallel-item:only-child::after {width: 0;}#sk-container-id-2 div.sk-dashed-wrapped {border: 1px dashed gray;margin: 0 0.4em 0.5em 0.4em;box-sizing: border-box;padding-bottom: 0.4em;background-color: white;}#sk-container-id-2 div.sk-label label {font-family: monospace;font-weight: bold;display: inline-block;line-height: 1.2em;}#sk-container-id-2 div.sk-label-container {text-align: center;}#sk-container-id-2 div.sk-container {/* jupyter's `normalize.less` sets `[hidden] { display: none; }` but bootstrap.min.css set `[hidden] { display: none !important; }` so we also need the `!important` here to be able to override the default hidden behavior on the sphinx rendered scikit-learn.org. See: https://github.com/scikit-learn/scikit-learn/issues/21755 */display: inline-block !important;position: relative;}#sk-container-id-2 div.sk-text-repr-fallback {display: none;}</style><div id=\"sk-container-id-2\" class=\"sk-top-container\"><div class=\"sk-text-repr-fallback\"><pre>Pipeline(steps=[(&#x27;preprocessor&#x27;,\n",
       "                 ColumnTransformer(transformers=[(&#x27;numerical&#x27;,\n",
       "                                                  Pipeline(steps=[(&#x27;imputer&#x27;,\n",
       "                                                                   SimpleImputer()),\n",
       "                                                                  (&#x27;scaler&#x27;,\n",
       "                                                                   StandardScaler(with_mean=False))]),\n",
       "                                                  Index([&#x27;age&#x27;, &#x27;fnlwgt&#x27;, &#x27;education_num&#x27;, &#x27;capital_gain&#x27;, &#x27;capital_loss&#x27;,\n",
       "       &#x27;hours_per_week&#x27;],\n",
       "      dtype=&#x27;object&#x27;)),\n",
       "                                                 (&#x27;categorical&#x27;,\n",
       "                                                  Pipeline(steps=[(&#x27;imputer&#x27;,\n",
       "                                                                   SimpleImputer(strategy=&#x27;most_frequent&#x27;)),\n",
       "                                                                  (&#x27;onehot&#x27;,\n",
       "                                                                   OneHotEncoder(handle_unknown=&#x27;ignore&#x27;,\n",
       "                                                                                 sparse=True))]),\n",
       "                                                  Index([&#x27;workclass&#x27;, &#x27;education&#x27;, &#x27;marital_status&#x27;, &#x27;occupation&#x27;,\n",
       "       &#x27;relationship&#x27;, &#x27;race&#x27;, &#x27;sex&#x27;, &#x27;native_country&#x27;],\n",
       "      dtype=&#x27;object&#x27;))])),\n",
       "                (&#x27;kmeans&#x27;, KMeans(n_clusters=9)),\n",
       "                (&#x27;logreg&#x27;, LogisticRegression())])</pre><b>In a Jupyter environment, please rerun this cell to show the HTML representation or trust the notebook. <br />On GitHub, the HTML representation is unable to render, please try loading this page with nbviewer.org.</b></div><div class=\"sk-container\" hidden><div class=\"sk-item sk-dashed-wrapped\"><div class=\"sk-label-container\"><div class=\"sk-label sk-toggleable\"><input class=\"sk-toggleable__control sk-hidden--visually\" id=\"sk-estimator-id-10\" type=\"checkbox\" ><label for=\"sk-estimator-id-10\" class=\"sk-toggleable__label sk-toggleable__label-arrow\">Pipeline</label><div class=\"sk-toggleable__content\"><pre>Pipeline(steps=[(&#x27;preprocessor&#x27;,\n",
       "                 ColumnTransformer(transformers=[(&#x27;numerical&#x27;,\n",
       "                                                  Pipeline(steps=[(&#x27;imputer&#x27;,\n",
       "                                                                   SimpleImputer()),\n",
       "                                                                  (&#x27;scaler&#x27;,\n",
       "                                                                   StandardScaler(with_mean=False))]),\n",
       "                                                  Index([&#x27;age&#x27;, &#x27;fnlwgt&#x27;, &#x27;education_num&#x27;, &#x27;capital_gain&#x27;, &#x27;capital_loss&#x27;,\n",
       "       &#x27;hours_per_week&#x27;],\n",
       "      dtype=&#x27;object&#x27;)),\n",
       "                                                 (&#x27;categorical&#x27;,\n",
       "                                                  Pipeline(steps=[(&#x27;imputer&#x27;,\n",
       "                                                                   SimpleImputer(strategy=&#x27;most_frequent&#x27;)),\n",
       "                                                                  (&#x27;onehot&#x27;,\n",
       "                                                                   OneHotEncoder(handle_unknown=&#x27;ignore&#x27;,\n",
       "                                                                                 sparse=True))]),\n",
       "                                                  Index([&#x27;workclass&#x27;, &#x27;education&#x27;, &#x27;marital_status&#x27;, &#x27;occupation&#x27;,\n",
       "       &#x27;relationship&#x27;, &#x27;race&#x27;, &#x27;sex&#x27;, &#x27;native_country&#x27;],\n",
       "      dtype=&#x27;object&#x27;))])),\n",
       "                (&#x27;kmeans&#x27;, KMeans(n_clusters=9)),\n",
       "                (&#x27;logreg&#x27;, LogisticRegression())])</pre></div></div></div><div class=\"sk-serial\"><div class=\"sk-item sk-dashed-wrapped\"><div class=\"sk-label-container\"><div class=\"sk-label sk-toggleable\"><input class=\"sk-toggleable__control sk-hidden--visually\" id=\"sk-estimator-id-11\" type=\"checkbox\" ><label for=\"sk-estimator-id-11\" class=\"sk-toggleable__label sk-toggleable__label-arrow\">preprocessor: ColumnTransformer</label><div class=\"sk-toggleable__content\"><pre>ColumnTransformer(transformers=[(&#x27;numerical&#x27;,\n",
       "                                 Pipeline(steps=[(&#x27;imputer&#x27;, SimpleImputer()),\n",
       "                                                 (&#x27;scaler&#x27;,\n",
       "                                                  StandardScaler(with_mean=False))]),\n",
       "                                 Index([&#x27;age&#x27;, &#x27;fnlwgt&#x27;, &#x27;education_num&#x27;, &#x27;capital_gain&#x27;, &#x27;capital_loss&#x27;,\n",
       "       &#x27;hours_per_week&#x27;],\n",
       "      dtype=&#x27;object&#x27;)),\n",
       "                                (&#x27;categorical&#x27;,\n",
       "                                 Pipeline(steps=[(&#x27;imputer&#x27;,\n",
       "                                                  SimpleImputer(strategy=&#x27;most_frequent&#x27;)),\n",
       "                                                 (&#x27;onehot&#x27;,\n",
       "                                                  OneHotEncoder(handle_unknown=&#x27;ignore&#x27;,\n",
       "                                                                sparse=True))]),\n",
       "                                 Index([&#x27;workclass&#x27;, &#x27;education&#x27;, &#x27;marital_status&#x27;, &#x27;occupation&#x27;,\n",
       "       &#x27;relationship&#x27;, &#x27;race&#x27;, &#x27;sex&#x27;, &#x27;native_country&#x27;],\n",
       "      dtype=&#x27;object&#x27;))])</pre></div></div></div><div class=\"sk-parallel\"><div class=\"sk-parallel-item\"><div class=\"sk-item\"><div class=\"sk-label-container\"><div class=\"sk-label sk-toggleable\"><input class=\"sk-toggleable__control sk-hidden--visually\" id=\"sk-estimator-id-12\" type=\"checkbox\" ><label for=\"sk-estimator-id-12\" class=\"sk-toggleable__label sk-toggleable__label-arrow\">numerical</label><div class=\"sk-toggleable__content\"><pre>Index([&#x27;age&#x27;, &#x27;fnlwgt&#x27;, &#x27;education_num&#x27;, &#x27;capital_gain&#x27;, &#x27;capital_loss&#x27;,\n",
       "       &#x27;hours_per_week&#x27;],\n",
       "      dtype=&#x27;object&#x27;)</pre></div></div></div><div class=\"sk-serial\"><div class=\"sk-item\"><div class=\"sk-serial\"><div class=\"sk-item\"><div class=\"sk-estimator sk-toggleable\"><input class=\"sk-toggleable__control sk-hidden--visually\" id=\"sk-estimator-id-13\" type=\"checkbox\" ><label for=\"sk-estimator-id-13\" class=\"sk-toggleable__label sk-toggleable__label-arrow\">SimpleImputer</label><div class=\"sk-toggleable__content\"><pre>SimpleImputer()</pre></div></div></div><div class=\"sk-item\"><div class=\"sk-estimator sk-toggleable\"><input class=\"sk-toggleable__control sk-hidden--visually\" id=\"sk-estimator-id-14\" type=\"checkbox\" ><label for=\"sk-estimator-id-14\" class=\"sk-toggleable__label sk-toggleable__label-arrow\">StandardScaler</label><div class=\"sk-toggleable__content\"><pre>StandardScaler(with_mean=False)</pre></div></div></div></div></div></div></div></div><div class=\"sk-parallel-item\"><div class=\"sk-item\"><div class=\"sk-label-container\"><div class=\"sk-label sk-toggleable\"><input class=\"sk-toggleable__control sk-hidden--visually\" id=\"sk-estimator-id-15\" type=\"checkbox\" ><label for=\"sk-estimator-id-15\" class=\"sk-toggleable__label sk-toggleable__label-arrow\">categorical</label><div class=\"sk-toggleable__content\"><pre>Index([&#x27;workclass&#x27;, &#x27;education&#x27;, &#x27;marital_status&#x27;, &#x27;occupation&#x27;,\n",
       "       &#x27;relationship&#x27;, &#x27;race&#x27;, &#x27;sex&#x27;, &#x27;native_country&#x27;],\n",
       "      dtype=&#x27;object&#x27;)</pre></div></div></div><div class=\"sk-serial\"><div class=\"sk-item\"><div class=\"sk-serial\"><div class=\"sk-item\"><div class=\"sk-estimator sk-toggleable\"><input class=\"sk-toggleable__control sk-hidden--visually\" id=\"sk-estimator-id-16\" type=\"checkbox\" ><label for=\"sk-estimator-id-16\" class=\"sk-toggleable__label sk-toggleable__label-arrow\">SimpleImputer</label><div class=\"sk-toggleable__content\"><pre>SimpleImputer(strategy=&#x27;most_frequent&#x27;)</pre></div></div></div><div class=\"sk-item\"><div class=\"sk-estimator sk-toggleable\"><input class=\"sk-toggleable__control sk-hidden--visually\" id=\"sk-estimator-id-17\" type=\"checkbox\" ><label for=\"sk-estimator-id-17\" class=\"sk-toggleable__label sk-toggleable__label-arrow\">OneHotEncoder</label><div class=\"sk-toggleable__content\"><pre>OneHotEncoder(handle_unknown=&#x27;ignore&#x27;, sparse=True)</pre></div></div></div></div></div></div></div></div></div></div><div class=\"sk-item\"><div class=\"sk-estimator sk-toggleable\"><input class=\"sk-toggleable__control sk-hidden--visually\" id=\"sk-estimator-id-18\" type=\"checkbox\" ><label for=\"sk-estimator-id-18\" class=\"sk-toggleable__label sk-toggleable__label-arrow\">KMeans</label><div class=\"sk-toggleable__content\"><pre>KMeans(n_clusters=9)</pre></div></div></div><div class=\"sk-item\"><div class=\"sk-estimator sk-toggleable\"><input class=\"sk-toggleable__control sk-hidden--visually\" id=\"sk-estimator-id-19\" type=\"checkbox\" ><label for=\"sk-estimator-id-19\" class=\"sk-toggleable__label sk-toggleable__label-arrow\">LogisticRegression</label><div class=\"sk-toggleable__content\"><pre>LogisticRegression()</pre></div></div></div></div></div></div></div>"
      ],
      "text/plain": [
       "Pipeline(steps=[('preprocessor',\n",
       "                 ColumnTransformer(transformers=[('numerical',\n",
       "                                                  Pipeline(steps=[('imputer',\n",
       "                                                                   SimpleImputer()),\n",
       "                                                                  ('scaler',\n",
       "                                                                   StandardScaler(with_mean=False))]),\n",
       "                                                  Index(['age', 'fnlwgt', 'education_num', 'capital_gain', 'capital_loss',\n",
       "       'hours_per_week'],\n",
       "      dtype='object')),\n",
       "                                                 ('categorical',\n",
       "                                                  Pipeline(steps=[('imputer',\n",
       "                                                                   SimpleImputer(strategy='most_frequent')),\n",
       "                                                                  ('onehot',\n",
       "                                                                   OneHotEncoder(handle_unknown='ignore',\n",
       "                                                                                 sparse=True))]),\n",
       "                                                  Index(['workclass', 'education', 'marital_status', 'occupation',\n",
       "       'relationship', 'race', 'sex', 'native_country'],\n",
       "      dtype='object'))])),\n",
       "                ('kmeans', KMeans(n_clusters=9)),\n",
       "                ('logreg', LogisticRegression())])"
      ]
     },
     "execution_count": 67,
     "metadata": {},
     "output_type": "execute_result"
    }
   ],
   "source": [
    "lrk_pipeline.fit(X_sample, y_sample)"
   ]
  },
  {
   "cell_type": "markdown",
   "id": "7f47e049",
   "metadata": {},
   "source": [
    "## Evaluation of training data"
   ]
  },
  {
   "cell_type": "code",
   "execution_count": 68,
   "id": "5c95ef22",
   "metadata": {},
   "outputs": [
    {
     "data": {
      "text/plain": [
       "array([[9.99990900e-01, 9.09982630e-06],\n",
       "       [9.97844458e-01, 2.15554224e-03],\n",
       "       [1.85794229e-03, 9.98142058e-01],\n",
       "       [9.99900605e-01, 9.93954370e-05],\n",
       "       [9.99999993e-01, 6.51046782e-09]])"
      ]
     },
     "execution_count": 68,
     "metadata": {},
     "output_type": "execute_result"
    }
   ],
   "source": [
    "y_train_predictions = lrk_pipeline.predict_proba(X_sample)\n",
    "y_train_predictions[:5]"
   ]
  },
  {
   "cell_type": "code",
   "execution_count": 69,
   "id": "07243f37",
   "metadata": {},
   "outputs": [
    {
     "name": "stdout",
     "output_type": "stream",
     "text": [
      "[[75315   908]\n",
      " [ 1137 22640]]\n"
     ]
    }
   ],
   "source": [
    "from sklearn.metrics import confusion_matrix\n",
    "\n",
    "y_train_predictions = lrk_pipeline.predict(X_sample)\n",
    "\n",
    "print(confusion_matrix(y_sample, y_train_predictions))"
   ]
  },
  {
   "cell_type": "code",
   "execution_count": 70,
   "id": "14f9a459",
   "metadata": {},
   "outputs": [
    {
     "name": "stdout",
     "output_type": "stream",
     "text": [
      "              precision    recall  f1-score   support\n",
      "\n",
      "           0       0.99      0.99      0.99     76223\n",
      "           1       0.96      0.95      0.96     23777\n",
      "\n",
      "    accuracy                           0.98    100000\n",
      "   macro avg       0.97      0.97      0.97    100000\n",
      "weighted avg       0.98      0.98      0.98    100000\n",
      "\n"
     ]
    }
   ],
   "source": [
    "from sklearn.metrics import classification_report\n",
    "print(classification_report(y_sample, y_train_predictions))"
   ]
  },
  {
   "cell_type": "markdown",
   "id": "fc0ec775",
   "metadata": {},
   "source": [
    "## Evaluation of testing data"
   ]
  },
  {
   "cell_type": "code",
   "execution_count": 71,
   "id": "fd9c8fa7",
   "metadata": {},
   "outputs": [
    {
     "data": {
      "text/plain": [
       "array([[9.99790725e-01, 2.09275096e-04],\n",
       "       [2.36856984e-04, 9.99763143e-01],\n",
       "       [9.99989489e-01, 1.05105202e-05],\n",
       "       [9.94600853e-01, 5.39914715e-03],\n",
       "       [9.99557843e-01, 4.42157277e-04]])"
      ]
     },
     "execution_count": 71,
     "metadata": {},
     "output_type": "execute_result"
    }
   ],
   "source": [
    "y_test_predictions = lrk_pipeline.predict_proba(X_test)\n",
    "y_test_predictions[:5]"
   ]
  },
  {
   "cell_type": "code",
   "execution_count": 72,
   "id": "50175e4c",
   "metadata": {},
   "outputs": [
    {
     "name": "stdout",
     "output_type": "stream",
     "text": [
      "[[18914  3976]\n",
      " [ 3987  3123]]\n"
     ]
    }
   ],
   "source": [
    "from sklearn.metrics import confusion_matrix\n",
    "\n",
    "y_test_predictions = lrk_pipeline.predict(X_test)\n",
    "\n",
    "print(confusion_matrix(y_test, y_test_predictions))"
   ]
  },
  {
   "cell_type": "code",
   "execution_count": 73,
   "id": "d909be83",
   "metadata": {},
   "outputs": [
    {
     "name": "stdout",
     "output_type": "stream",
     "text": [
      "              precision    recall  f1-score   support\n",
      "\n",
      "           0       0.83      0.83      0.83     22890\n",
      "           1       0.44      0.44      0.44      7110\n",
      "\n",
      "    accuracy                           0.73     30000\n",
      "   macro avg       0.63      0.63      0.63     30000\n",
      "weighted avg       0.73      0.73      0.73     30000\n",
      "\n"
     ]
    }
   ],
   "source": [
    "from sklearn.metrics import classification_report\n",
    "print(classification_report(y_test, y_test_predictions))"
   ]
  },
  {
   "cell_type": "code",
   "execution_count": 74,
   "id": "13541a43",
   "metadata": {},
   "outputs": [
    {
     "name": "stdout",
     "output_type": "stream",
     "text": [
      "Accuracy of logistic regression of training dataset is:  97.955\n"
     ]
    }
   ],
   "source": [
    "from sklearn.metrics import accuracy_score\n",
    "\n",
    "log_train_accuracy = accuracy_score(y_sample,y_train_predictions)\n",
    "\n",
    "print(\"Accuracy of logistic regression of training dataset is: \",log_train_accuracy*100)"
   ]
  },
  {
   "cell_type": "code",
   "execution_count": 75,
   "id": "f0586ddb",
   "metadata": {},
   "outputs": [
    {
     "name": "stdout",
     "output_type": "stream",
     "text": [
      "Accuracy of logistic regression of testing dataset is:  73.45666666666666\n"
     ]
    }
   ],
   "source": [
    "from sklearn.metrics import accuracy_score\n",
    "\n",
    "log_test_accuracy = accuracy_score(y_test,y_test_predictions)\n",
    "\n",
    "print(\"Accuracy of logistic regression of testing dataset is: \",log_test_accuracy*100)"
   ]
  },
  {
   "cell_type": "markdown",
   "id": "bcfd44da",
   "metadata": {},
   "source": [
    "**For this model (implementing logistic regression with k-means) we have done the following:-**\n",
    "- Fit the model to the train dataset and evaluated it on test dataset.\n",
    "- Calculated the confusion matrix and classification report.\n",
    "\n",
    "**This model has an training accuracy of 97.95 and testing accuracy of 73.45 which clearly states that there is overfitting. Logistic Regression with k-means is not the best fit for this data.**"
   ]
  },
  {
   "cell_type": "markdown",
   "id": "66434913",
   "metadata": {},
   "source": [
    "# HYPERPARAMETER TUNING"
   ]
  },
  {
   "cell_type": "code",
   "execution_count": 76,
   "id": "2fdc7629",
   "metadata": {
    "scrolled": true
   },
   "outputs": [
    {
     "data": {
      "text/html": [
       "<style>#sk-container-id-3 {color: black;background-color: white;}#sk-container-id-3 pre{padding: 0;}#sk-container-id-3 div.sk-toggleable {background-color: white;}#sk-container-id-3 label.sk-toggleable__label {cursor: pointer;display: block;width: 100%;margin-bottom: 0;padding: 0.3em;box-sizing: border-box;text-align: center;}#sk-container-id-3 label.sk-toggleable__label-arrow:before {content: \"▸\";float: left;margin-right: 0.25em;color: #696969;}#sk-container-id-3 label.sk-toggleable__label-arrow:hover:before {color: black;}#sk-container-id-3 div.sk-estimator:hover label.sk-toggleable__label-arrow:before {color: black;}#sk-container-id-3 div.sk-toggleable__content {max-height: 0;max-width: 0;overflow: hidden;text-align: left;background-color: #f0f8ff;}#sk-container-id-3 div.sk-toggleable__content pre {margin: 0.2em;color: black;border-radius: 0.25em;background-color: #f0f8ff;}#sk-container-id-3 input.sk-toggleable__control:checked~div.sk-toggleable__content {max-height: 200px;max-width: 100%;overflow: auto;}#sk-container-id-3 input.sk-toggleable__control:checked~label.sk-toggleable__label-arrow:before {content: \"▾\";}#sk-container-id-3 div.sk-estimator input.sk-toggleable__control:checked~label.sk-toggleable__label {background-color: #d4ebff;}#sk-container-id-3 div.sk-label input.sk-toggleable__control:checked~label.sk-toggleable__label {background-color: #d4ebff;}#sk-container-id-3 input.sk-hidden--visually {border: 0;clip: rect(1px 1px 1px 1px);clip: rect(1px, 1px, 1px, 1px);height: 1px;margin: -1px;overflow: hidden;padding: 0;position: absolute;width: 1px;}#sk-container-id-3 div.sk-estimator {font-family: monospace;background-color: #f0f8ff;border: 1px dotted black;border-radius: 0.25em;box-sizing: border-box;margin-bottom: 0.5em;}#sk-container-id-3 div.sk-estimator:hover {background-color: #d4ebff;}#sk-container-id-3 div.sk-parallel-item::after {content: \"\";width: 100%;border-bottom: 1px solid gray;flex-grow: 1;}#sk-container-id-3 div.sk-label:hover label.sk-toggleable__label {background-color: #d4ebff;}#sk-container-id-3 div.sk-serial::before {content: \"\";position: absolute;border-left: 1px solid gray;box-sizing: border-box;top: 0;bottom: 0;left: 50%;z-index: 0;}#sk-container-id-3 div.sk-serial {display: flex;flex-direction: column;align-items: center;background-color: white;padding-right: 0.2em;padding-left: 0.2em;position: relative;}#sk-container-id-3 div.sk-item {position: relative;z-index: 1;}#sk-container-id-3 div.sk-parallel {display: flex;align-items: stretch;justify-content: center;background-color: white;position: relative;}#sk-container-id-3 div.sk-item::before, #sk-container-id-3 div.sk-parallel-item::before {content: \"\";position: absolute;border-left: 1px solid gray;box-sizing: border-box;top: 0;bottom: 0;left: 50%;z-index: -1;}#sk-container-id-3 div.sk-parallel-item {display: flex;flex-direction: column;z-index: 1;position: relative;background-color: white;}#sk-container-id-3 div.sk-parallel-item:first-child::after {align-self: flex-end;width: 50%;}#sk-container-id-3 div.sk-parallel-item:last-child::after {align-self: flex-start;width: 50%;}#sk-container-id-3 div.sk-parallel-item:only-child::after {width: 0;}#sk-container-id-3 div.sk-dashed-wrapped {border: 1px dashed gray;margin: 0 0.4em 0.5em 0.4em;box-sizing: border-box;padding-bottom: 0.4em;background-color: white;}#sk-container-id-3 div.sk-label label {font-family: monospace;font-weight: bold;display: inline-block;line-height: 1.2em;}#sk-container-id-3 div.sk-label-container {text-align: center;}#sk-container-id-3 div.sk-container {/* jupyter's `normalize.less` sets `[hidden] { display: none; }` but bootstrap.min.css set `[hidden] { display: none !important; }` so we also need the `!important` here to be able to override the default hidden behavior on the sphinx rendered scikit-learn.org. See: https://github.com/scikit-learn/scikit-learn/issues/21755 */display: inline-block !important;position: relative;}#sk-container-id-3 div.sk-text-repr-fallback {display: none;}</style><div id=\"sk-container-id-3\" class=\"sk-top-container\"><div class=\"sk-text-repr-fallback\"><pre>GridSearchCV(cv=5,\n",
       "             estimator=Pipeline(steps=[(&#x27;preprocessor&#x27;,\n",
       "                                        ColumnTransformer(transformers=[(&#x27;numerical&#x27;,\n",
       "                                                                         Pipeline(steps=[(&#x27;imputer&#x27;,\n",
       "                                                                                          SimpleImputer()),\n",
       "                                                                                         (&#x27;scaler&#x27;,\n",
       "                                                                                          StandardScaler(with_mean=False))]),\n",
       "                                                                         Index([&#x27;age&#x27;, &#x27;fnlwgt&#x27;, &#x27;education_num&#x27;, &#x27;capital_gain&#x27;, &#x27;capital_loss&#x27;,\n",
       "       &#x27;hours_per_week&#x27;],\n",
       "      dtype=&#x27;object&#x27;)),\n",
       "                                                                        (&#x27;categorical&#x27;,\n",
       "                                                                         Pipeline(steps=[(&#x27;imputer&#x27;,\n",
       "                                                                                          SimpleImput...\n",
       "                                                                                          OneHotEncoder(handle_unknown=&#x27;ignore&#x27;,\n",
       "                                                                                                        sparse=True))]),\n",
       "                                                                         Index([&#x27;workclass&#x27;, &#x27;education&#x27;, &#x27;marital_status&#x27;, &#x27;occupation&#x27;,\n",
       "       &#x27;relationship&#x27;, &#x27;race&#x27;, &#x27;sex&#x27;, &#x27;native_country&#x27;],\n",
       "      dtype=&#x27;object&#x27;))])),\n",
       "                                       (&#x27;lr_classifier&#x27;,\n",
       "                                        LogisticRegression())]),\n",
       "             param_grid={&#x27;lr_classifier__C&#x27;: [0.001, 0.01, 0.1, 1, 10],\n",
       "                         &#x27;lr_classifier__penalty&#x27;: [&#x27;l1&#x27;, &#x27;l2&#x27;],\n",
       "                         &#x27;lr_classifier__solver&#x27;: [&#x27;liblinear&#x27;, &#x27;lbfgs&#x27;]},\n",
       "             scoring=&#x27;accuracy&#x27;)</pre><b>In a Jupyter environment, please rerun this cell to show the HTML representation or trust the notebook. <br />On GitHub, the HTML representation is unable to render, please try loading this page with nbviewer.org.</b></div><div class=\"sk-container\" hidden><div class=\"sk-item sk-dashed-wrapped\"><div class=\"sk-label-container\"><div class=\"sk-label sk-toggleable\"><input class=\"sk-toggleable__control sk-hidden--visually\" id=\"sk-estimator-id-20\" type=\"checkbox\" ><label for=\"sk-estimator-id-20\" class=\"sk-toggleable__label sk-toggleable__label-arrow\">GridSearchCV</label><div class=\"sk-toggleable__content\"><pre>GridSearchCV(cv=5,\n",
       "             estimator=Pipeline(steps=[(&#x27;preprocessor&#x27;,\n",
       "                                        ColumnTransformer(transformers=[(&#x27;numerical&#x27;,\n",
       "                                                                         Pipeline(steps=[(&#x27;imputer&#x27;,\n",
       "                                                                                          SimpleImputer()),\n",
       "                                                                                         (&#x27;scaler&#x27;,\n",
       "                                                                                          StandardScaler(with_mean=False))]),\n",
       "                                                                         Index([&#x27;age&#x27;, &#x27;fnlwgt&#x27;, &#x27;education_num&#x27;, &#x27;capital_gain&#x27;, &#x27;capital_loss&#x27;,\n",
       "       &#x27;hours_per_week&#x27;],\n",
       "      dtype=&#x27;object&#x27;)),\n",
       "                                                                        (&#x27;categorical&#x27;,\n",
       "                                                                         Pipeline(steps=[(&#x27;imputer&#x27;,\n",
       "                                                                                          SimpleImput...\n",
       "                                                                                          OneHotEncoder(handle_unknown=&#x27;ignore&#x27;,\n",
       "                                                                                                        sparse=True))]),\n",
       "                                                                         Index([&#x27;workclass&#x27;, &#x27;education&#x27;, &#x27;marital_status&#x27;, &#x27;occupation&#x27;,\n",
       "       &#x27;relationship&#x27;, &#x27;race&#x27;, &#x27;sex&#x27;, &#x27;native_country&#x27;],\n",
       "      dtype=&#x27;object&#x27;))])),\n",
       "                                       (&#x27;lr_classifier&#x27;,\n",
       "                                        LogisticRegression())]),\n",
       "             param_grid={&#x27;lr_classifier__C&#x27;: [0.001, 0.01, 0.1, 1, 10],\n",
       "                         &#x27;lr_classifier__penalty&#x27;: [&#x27;l1&#x27;, &#x27;l2&#x27;],\n",
       "                         &#x27;lr_classifier__solver&#x27;: [&#x27;liblinear&#x27;, &#x27;lbfgs&#x27;]},\n",
       "             scoring=&#x27;accuracy&#x27;)</pre></div></div></div><div class=\"sk-parallel\"><div class=\"sk-parallel-item\"><div class=\"sk-item\"><div class=\"sk-label-container\"><div class=\"sk-label sk-toggleable\"><input class=\"sk-toggleable__control sk-hidden--visually\" id=\"sk-estimator-id-21\" type=\"checkbox\" ><label for=\"sk-estimator-id-21\" class=\"sk-toggleable__label sk-toggleable__label-arrow\">estimator: Pipeline</label><div class=\"sk-toggleable__content\"><pre>Pipeline(steps=[(&#x27;preprocessor&#x27;,\n",
       "                 ColumnTransformer(transformers=[(&#x27;numerical&#x27;,\n",
       "                                                  Pipeline(steps=[(&#x27;imputer&#x27;,\n",
       "                                                                   SimpleImputer()),\n",
       "                                                                  (&#x27;scaler&#x27;,\n",
       "                                                                   StandardScaler(with_mean=False))]),\n",
       "                                                  Index([&#x27;age&#x27;, &#x27;fnlwgt&#x27;, &#x27;education_num&#x27;, &#x27;capital_gain&#x27;, &#x27;capital_loss&#x27;,\n",
       "       &#x27;hours_per_week&#x27;],\n",
       "      dtype=&#x27;object&#x27;)),\n",
       "                                                 (&#x27;categorical&#x27;,\n",
       "                                                  Pipeline(steps=[(&#x27;imputer&#x27;,\n",
       "                                                                   SimpleImputer(strategy=&#x27;most_frequent&#x27;)),\n",
       "                                                                  (&#x27;onehot&#x27;,\n",
       "                                                                   OneHotEncoder(handle_unknown=&#x27;ignore&#x27;,\n",
       "                                                                                 sparse=True))]),\n",
       "                                                  Index([&#x27;workclass&#x27;, &#x27;education&#x27;, &#x27;marital_status&#x27;, &#x27;occupation&#x27;,\n",
       "       &#x27;relationship&#x27;, &#x27;race&#x27;, &#x27;sex&#x27;, &#x27;native_country&#x27;],\n",
       "      dtype=&#x27;object&#x27;))])),\n",
       "                (&#x27;lr_classifier&#x27;, LogisticRegression())])</pre></div></div></div><div class=\"sk-serial\"><div class=\"sk-item\"><div class=\"sk-serial\"><div class=\"sk-item sk-dashed-wrapped\"><div class=\"sk-label-container\"><div class=\"sk-label sk-toggleable\"><input class=\"sk-toggleable__control sk-hidden--visually\" id=\"sk-estimator-id-22\" type=\"checkbox\" ><label for=\"sk-estimator-id-22\" class=\"sk-toggleable__label sk-toggleable__label-arrow\">preprocessor: ColumnTransformer</label><div class=\"sk-toggleable__content\"><pre>ColumnTransformer(transformers=[(&#x27;numerical&#x27;,\n",
       "                                 Pipeline(steps=[(&#x27;imputer&#x27;, SimpleImputer()),\n",
       "                                                 (&#x27;scaler&#x27;,\n",
       "                                                  StandardScaler(with_mean=False))]),\n",
       "                                 Index([&#x27;age&#x27;, &#x27;fnlwgt&#x27;, &#x27;education_num&#x27;, &#x27;capital_gain&#x27;, &#x27;capital_loss&#x27;,\n",
       "       &#x27;hours_per_week&#x27;],\n",
       "      dtype=&#x27;object&#x27;)),\n",
       "                                (&#x27;categorical&#x27;,\n",
       "                                 Pipeline(steps=[(&#x27;imputer&#x27;,\n",
       "                                                  SimpleImputer(strategy=&#x27;most_frequent&#x27;)),\n",
       "                                                 (&#x27;onehot&#x27;,\n",
       "                                                  OneHotEncoder(handle_unknown=&#x27;ignore&#x27;,\n",
       "                                                                sparse=True))]),\n",
       "                                 Index([&#x27;workclass&#x27;, &#x27;education&#x27;, &#x27;marital_status&#x27;, &#x27;occupation&#x27;,\n",
       "       &#x27;relationship&#x27;, &#x27;race&#x27;, &#x27;sex&#x27;, &#x27;native_country&#x27;],\n",
       "      dtype=&#x27;object&#x27;))])</pre></div></div></div><div class=\"sk-parallel\"><div class=\"sk-parallel-item\"><div class=\"sk-item\"><div class=\"sk-label-container\"><div class=\"sk-label sk-toggleable\"><input class=\"sk-toggleable__control sk-hidden--visually\" id=\"sk-estimator-id-23\" type=\"checkbox\" ><label for=\"sk-estimator-id-23\" class=\"sk-toggleable__label sk-toggleable__label-arrow\">numerical</label><div class=\"sk-toggleable__content\"><pre>Index([&#x27;age&#x27;, &#x27;fnlwgt&#x27;, &#x27;education_num&#x27;, &#x27;capital_gain&#x27;, &#x27;capital_loss&#x27;,\n",
       "       &#x27;hours_per_week&#x27;],\n",
       "      dtype=&#x27;object&#x27;)</pre></div></div></div><div class=\"sk-serial\"><div class=\"sk-item\"><div class=\"sk-serial\"><div class=\"sk-item\"><div class=\"sk-estimator sk-toggleable\"><input class=\"sk-toggleable__control sk-hidden--visually\" id=\"sk-estimator-id-24\" type=\"checkbox\" ><label for=\"sk-estimator-id-24\" class=\"sk-toggleable__label sk-toggleable__label-arrow\">SimpleImputer</label><div class=\"sk-toggleable__content\"><pre>SimpleImputer()</pre></div></div></div><div class=\"sk-item\"><div class=\"sk-estimator sk-toggleable\"><input class=\"sk-toggleable__control sk-hidden--visually\" id=\"sk-estimator-id-25\" type=\"checkbox\" ><label for=\"sk-estimator-id-25\" class=\"sk-toggleable__label sk-toggleable__label-arrow\">StandardScaler</label><div class=\"sk-toggleable__content\"><pre>StandardScaler(with_mean=False)</pre></div></div></div></div></div></div></div></div><div class=\"sk-parallel-item\"><div class=\"sk-item\"><div class=\"sk-label-container\"><div class=\"sk-label sk-toggleable\"><input class=\"sk-toggleable__control sk-hidden--visually\" id=\"sk-estimator-id-26\" type=\"checkbox\" ><label for=\"sk-estimator-id-26\" class=\"sk-toggleable__label sk-toggleable__label-arrow\">categorical</label><div class=\"sk-toggleable__content\"><pre>Index([&#x27;workclass&#x27;, &#x27;education&#x27;, &#x27;marital_status&#x27;, &#x27;occupation&#x27;,\n",
       "       &#x27;relationship&#x27;, &#x27;race&#x27;, &#x27;sex&#x27;, &#x27;native_country&#x27;],\n",
       "      dtype=&#x27;object&#x27;)</pre></div></div></div><div class=\"sk-serial\"><div class=\"sk-item\"><div class=\"sk-serial\"><div class=\"sk-item\"><div class=\"sk-estimator sk-toggleable\"><input class=\"sk-toggleable__control sk-hidden--visually\" id=\"sk-estimator-id-27\" type=\"checkbox\" ><label for=\"sk-estimator-id-27\" class=\"sk-toggleable__label sk-toggleable__label-arrow\">SimpleImputer</label><div class=\"sk-toggleable__content\"><pre>SimpleImputer(strategy=&#x27;most_frequent&#x27;)</pre></div></div></div><div class=\"sk-item\"><div class=\"sk-estimator sk-toggleable\"><input class=\"sk-toggleable__control sk-hidden--visually\" id=\"sk-estimator-id-28\" type=\"checkbox\" ><label for=\"sk-estimator-id-28\" class=\"sk-toggleable__label sk-toggleable__label-arrow\">OneHotEncoder</label><div class=\"sk-toggleable__content\"><pre>OneHotEncoder(handle_unknown=&#x27;ignore&#x27;, sparse=True)</pre></div></div></div></div></div></div></div></div></div></div><div class=\"sk-item\"><div class=\"sk-estimator sk-toggleable\"><input class=\"sk-toggleable__control sk-hidden--visually\" id=\"sk-estimator-id-29\" type=\"checkbox\" ><label for=\"sk-estimator-id-29\" class=\"sk-toggleable__label sk-toggleable__label-arrow\">LogisticRegression</label><div class=\"sk-toggleable__content\"><pre>LogisticRegression()</pre></div></div></div></div></div></div></div></div></div></div></div></div>"
      ],
      "text/plain": [
       "GridSearchCV(cv=5,\n",
       "             estimator=Pipeline(steps=[('preprocessor',\n",
       "                                        ColumnTransformer(transformers=[('numerical',\n",
       "                                                                         Pipeline(steps=[('imputer',\n",
       "                                                                                          SimpleImputer()),\n",
       "                                                                                         ('scaler',\n",
       "                                                                                          StandardScaler(with_mean=False))]),\n",
       "                                                                         Index(['age', 'fnlwgt', 'education_num', 'capital_gain', 'capital_loss',\n",
       "       'hours_per_week'],\n",
       "      dtype='object')),\n",
       "                                                                        ('categorical',\n",
       "                                                                         Pipeline(steps=[('imputer',\n",
       "                                                                                          SimpleImput...\n",
       "                                                                                          OneHotEncoder(handle_unknown='ignore',\n",
       "                                                                                                        sparse=True))]),\n",
       "                                                                         Index(['workclass', 'education', 'marital_status', 'occupation',\n",
       "       'relationship', 'race', 'sex', 'native_country'],\n",
       "      dtype='object'))])),\n",
       "                                       ('lr_classifier',\n",
       "                                        LogisticRegression())]),\n",
       "             param_grid={'lr_classifier__C': [0.001, 0.01, 0.1, 1, 10],\n",
       "                         'lr_classifier__penalty': ['l1', 'l2'],\n",
       "                         'lr_classifier__solver': ['liblinear', 'lbfgs']},\n",
       "             scoring='accuracy')"
      ]
     },
     "execution_count": 76,
     "metadata": {},
     "output_type": "execute_result"
    }
   ],
   "source": [
    "from sklearn.model_selection import GridSearchCV\n",
    "from sklearn.metrics import classification_report\n",
    "\n",
    "lrh_pipeline = Pipeline([\n",
    "    ('preprocessor', preprocessor),\n",
    "    ('lr_classifier', LogisticRegression())\n",
    "])\n",
    "\n",
    "# Initialize the grid parameters of logistic regression\n",
    "param_grid = {\n",
    "    'lr_classifier__C': [0.001, 0.01, 0.1, 1, 10],  # Strength of regularization\n",
    "    'lr_classifier__penalty': ['l1', 'l2'],  # Type of regularization\n",
    "    'lr_classifier__solver': ['liblinear', 'lbfgs']  # Optimization of solver \n",
    "}\n",
    "\n",
    "# Create a GridSearchCV for cross validation\n",
    "grid_search_lr = GridSearchCV(lrh_pipeline, param_grid, cv=5, scoring='accuracy') \n",
    "\n",
    "# Perform hyperparameter tuning\n",
    "grid_search_lr.fit(X_sample, y_sample)"
   ]
  },
  {
   "cell_type": "markdown",
   "id": "6836d004",
   "metadata": {},
   "source": [
    "## Evaluation of training data"
   ]
  },
  {
   "cell_type": "code",
   "execution_count": 77,
   "id": "1fedf48c",
   "metadata": {},
   "outputs": [],
   "source": [
    "y_trainp = grid_search_lr.predict(X_sample)"
   ]
  },
  {
   "cell_type": "code",
   "execution_count": 78,
   "id": "c12b55ee",
   "metadata": {},
   "outputs": [
    {
     "name": "stdout",
     "output_type": "stream",
     "text": [
      "[[74579  1644]\n",
      " [ 1106 22671]]\n"
     ]
    }
   ],
   "source": [
    "print(confusion_matrix(y_sample, y_trainp))"
   ]
  },
  {
   "cell_type": "code",
   "execution_count": 79,
   "id": "adc334e7",
   "metadata": {},
   "outputs": [
    {
     "name": "stdout",
     "output_type": "stream",
     "text": [
      "              precision    recall  f1-score   support\n",
      "\n",
      "           0       0.99      0.98      0.98     76223\n",
      "           1       0.93      0.95      0.94     23777\n",
      "\n",
      "    accuracy                           0.97    100000\n",
      "   macro avg       0.96      0.97      0.96    100000\n",
      "weighted avg       0.97      0.97      0.97    100000\n",
      "\n"
     ]
    }
   ],
   "source": [
    "print(classification_report(y_sample, y_trainp))"
   ]
  },
  {
   "cell_type": "code",
   "execution_count": 80,
   "id": "a476206d",
   "metadata": {},
   "outputs": [
    {
     "name": "stdout",
     "output_type": "stream",
     "text": [
      "Accuracy of grid search logistic regression is:  97.25\n"
     ]
    }
   ],
   "source": [
    "from sklearn.metrics import accuracy_score\n",
    "\n",
    "lrg_train_accuracy = accuracy_score(y_sample,y_trainp)\n",
    "\n",
    "print(\"Accuracy of grid search logistic regression is: \",lrg_train_accuracy*100)"
   ]
  },
  {
   "cell_type": "markdown",
   "id": "b55b2317",
   "metadata": {},
   "source": [
    "## Evaluation of testing data"
   ]
  },
  {
   "cell_type": "code",
   "execution_count": 81,
   "id": "0be8688f",
   "metadata": {},
   "outputs": [],
   "source": [
    "y_testp = grid_search_lr.predict(X_test)"
   ]
  },
  {
   "cell_type": "code",
   "execution_count": 82,
   "id": "6f2f9354",
   "metadata": {},
   "outputs": [
    {
     "name": "stdout",
     "output_type": "stream",
     "text": [
      "[[18713  4177]\n",
      " [ 3931  3179]]\n"
     ]
    }
   ],
   "source": [
    "print(confusion_matrix(y_test, y_testp))"
   ]
  },
  {
   "cell_type": "code",
   "execution_count": 83,
   "id": "5ea870cb",
   "metadata": {},
   "outputs": [
    {
     "name": "stdout",
     "output_type": "stream",
     "text": [
      "              precision    recall  f1-score   support\n",
      "\n",
      "           0       0.83      0.82      0.82     22890\n",
      "           1       0.43      0.45      0.44      7110\n",
      "\n",
      "    accuracy                           0.73     30000\n",
      "   macro avg       0.63      0.63      0.63     30000\n",
      "weighted avg       0.73      0.73      0.73     30000\n",
      "\n"
     ]
    }
   ],
   "source": [
    "print(classification_report(y_test, y_testp))"
   ]
  },
  {
   "cell_type": "code",
   "execution_count": 84,
   "id": "3a8fd076",
   "metadata": {},
   "outputs": [
    {
     "name": "stdout",
     "output_type": "stream",
     "text": [
      "Accuracy of grid search logistic regression is:  72.97333333333333\n"
     ]
    }
   ],
   "source": [
    "from sklearn.metrics import accuracy_score\n",
    "\n",
    "lrg_test_accuracy = accuracy_score(y_test,y_testp)\n",
    "\n",
    "print(\"Accuracy of grid search logistic regression is: \",lrg_test_accuracy*100)"
   ]
  },
  {
   "cell_type": "markdown",
   "id": "694a79be",
   "metadata": {},
   "source": [
    "## Get the best hyperparameters and corresponding accuracy"
   ]
  },
  {
   "cell_type": "code",
   "execution_count": 85,
   "id": "65572091",
   "metadata": {},
   "outputs": [
    {
     "name": "stdout",
     "output_type": "stream",
     "text": [
      "Best Hyperparameter: {'lr_classifier__C': 1, 'lr_classifier__penalty': 'l2', 'lr_classifier__solver': 'lbfgs'}\n",
      "High Accuracy: 0.97258\n"
     ]
    }
   ],
   "source": [
    "best_params = grid_search_lr.best_params_\n",
    "high_accuracy = grid_search_lr.best_score_\n",
    "\n",
    "print(\"Best Hyperparameter:\", best_params)\n",
    "print(\"High Accuracy:\", high_accuracy)"
   ]
  },
  {
   "cell_type": "markdown",
   "id": "9f21e823",
   "metadata": {},
   "source": [
    "# Implementing Random Forest Classifier"
   ]
  },
  {
   "cell_type": "code",
   "execution_count": 86,
   "id": "cd80cafa",
   "metadata": {},
   "outputs": [],
   "source": [
    "from sklearn.ensemble import RandomForestClassifier\n",
    "\n",
    "rf_modeling_pipeline = Pipeline([\n",
    "    ('preprocessor', preprocessor), \n",
    "    ('classifier', RandomForestClassifier(n_estimators=100, random_state=120))  # Random Forest Classifier\n",
    "])"
   ]
  },
  {
   "cell_type": "code",
   "execution_count": 87,
   "id": "c72e63ca",
   "metadata": {},
   "outputs": [
    {
     "data": {
      "text/html": [
       "<style>#sk-container-id-4 {color: black;background-color: white;}#sk-container-id-4 pre{padding: 0;}#sk-container-id-4 div.sk-toggleable {background-color: white;}#sk-container-id-4 label.sk-toggleable__label {cursor: pointer;display: block;width: 100%;margin-bottom: 0;padding: 0.3em;box-sizing: border-box;text-align: center;}#sk-container-id-4 label.sk-toggleable__label-arrow:before {content: \"▸\";float: left;margin-right: 0.25em;color: #696969;}#sk-container-id-4 label.sk-toggleable__label-arrow:hover:before {color: black;}#sk-container-id-4 div.sk-estimator:hover label.sk-toggleable__label-arrow:before {color: black;}#sk-container-id-4 div.sk-toggleable__content {max-height: 0;max-width: 0;overflow: hidden;text-align: left;background-color: #f0f8ff;}#sk-container-id-4 div.sk-toggleable__content pre {margin: 0.2em;color: black;border-radius: 0.25em;background-color: #f0f8ff;}#sk-container-id-4 input.sk-toggleable__control:checked~div.sk-toggleable__content {max-height: 200px;max-width: 100%;overflow: auto;}#sk-container-id-4 input.sk-toggleable__control:checked~label.sk-toggleable__label-arrow:before {content: \"▾\";}#sk-container-id-4 div.sk-estimator input.sk-toggleable__control:checked~label.sk-toggleable__label {background-color: #d4ebff;}#sk-container-id-4 div.sk-label input.sk-toggleable__control:checked~label.sk-toggleable__label {background-color: #d4ebff;}#sk-container-id-4 input.sk-hidden--visually {border: 0;clip: rect(1px 1px 1px 1px);clip: rect(1px, 1px, 1px, 1px);height: 1px;margin: -1px;overflow: hidden;padding: 0;position: absolute;width: 1px;}#sk-container-id-4 div.sk-estimator {font-family: monospace;background-color: #f0f8ff;border: 1px dotted black;border-radius: 0.25em;box-sizing: border-box;margin-bottom: 0.5em;}#sk-container-id-4 div.sk-estimator:hover {background-color: #d4ebff;}#sk-container-id-4 div.sk-parallel-item::after {content: \"\";width: 100%;border-bottom: 1px solid gray;flex-grow: 1;}#sk-container-id-4 div.sk-label:hover label.sk-toggleable__label {background-color: #d4ebff;}#sk-container-id-4 div.sk-serial::before {content: \"\";position: absolute;border-left: 1px solid gray;box-sizing: border-box;top: 0;bottom: 0;left: 50%;z-index: 0;}#sk-container-id-4 div.sk-serial {display: flex;flex-direction: column;align-items: center;background-color: white;padding-right: 0.2em;padding-left: 0.2em;position: relative;}#sk-container-id-4 div.sk-item {position: relative;z-index: 1;}#sk-container-id-4 div.sk-parallel {display: flex;align-items: stretch;justify-content: center;background-color: white;position: relative;}#sk-container-id-4 div.sk-item::before, #sk-container-id-4 div.sk-parallel-item::before {content: \"\";position: absolute;border-left: 1px solid gray;box-sizing: border-box;top: 0;bottom: 0;left: 50%;z-index: -1;}#sk-container-id-4 div.sk-parallel-item {display: flex;flex-direction: column;z-index: 1;position: relative;background-color: white;}#sk-container-id-4 div.sk-parallel-item:first-child::after {align-self: flex-end;width: 50%;}#sk-container-id-4 div.sk-parallel-item:last-child::after {align-self: flex-start;width: 50%;}#sk-container-id-4 div.sk-parallel-item:only-child::after {width: 0;}#sk-container-id-4 div.sk-dashed-wrapped {border: 1px dashed gray;margin: 0 0.4em 0.5em 0.4em;box-sizing: border-box;padding-bottom: 0.4em;background-color: white;}#sk-container-id-4 div.sk-label label {font-family: monospace;font-weight: bold;display: inline-block;line-height: 1.2em;}#sk-container-id-4 div.sk-label-container {text-align: center;}#sk-container-id-4 div.sk-container {/* jupyter's `normalize.less` sets `[hidden] { display: none; }` but bootstrap.min.css set `[hidden] { display: none !important; }` so we also need the `!important` here to be able to override the default hidden behavior on the sphinx rendered scikit-learn.org. See: https://github.com/scikit-learn/scikit-learn/issues/21755 */display: inline-block !important;position: relative;}#sk-container-id-4 div.sk-text-repr-fallback {display: none;}</style><div id=\"sk-container-id-4\" class=\"sk-top-container\"><div class=\"sk-text-repr-fallback\"><pre>Pipeline(steps=[(&#x27;preprocessor&#x27;,\n",
       "                 ColumnTransformer(transformers=[(&#x27;numerical&#x27;,\n",
       "                                                  Pipeline(steps=[(&#x27;imputer&#x27;,\n",
       "                                                                   SimpleImputer()),\n",
       "                                                                  (&#x27;scaler&#x27;,\n",
       "                                                                   StandardScaler(with_mean=False))]),\n",
       "                                                  Index([&#x27;age&#x27;, &#x27;fnlwgt&#x27;, &#x27;education_num&#x27;, &#x27;capital_gain&#x27;, &#x27;capital_loss&#x27;,\n",
       "       &#x27;hours_per_week&#x27;],\n",
       "      dtype=&#x27;object&#x27;)),\n",
       "                                                 (&#x27;categorical&#x27;,\n",
       "                                                  Pipeline(steps=[(&#x27;imputer&#x27;,\n",
       "                                                                   SimpleImputer(strategy=&#x27;most_frequent&#x27;)),\n",
       "                                                                  (&#x27;onehot&#x27;,\n",
       "                                                                   OneHotEncoder(handle_unknown=&#x27;ignore&#x27;,\n",
       "                                                                                 sparse=True))]),\n",
       "                                                  Index([&#x27;workclass&#x27;, &#x27;education&#x27;, &#x27;marital_status&#x27;, &#x27;occupation&#x27;,\n",
       "       &#x27;relationship&#x27;, &#x27;race&#x27;, &#x27;sex&#x27;, &#x27;native_country&#x27;],\n",
       "      dtype=&#x27;object&#x27;))])),\n",
       "                (&#x27;classifier&#x27;, RandomForestClassifier(random_state=120))])</pre><b>In a Jupyter environment, please rerun this cell to show the HTML representation or trust the notebook. <br />On GitHub, the HTML representation is unable to render, please try loading this page with nbviewer.org.</b></div><div class=\"sk-container\" hidden><div class=\"sk-item sk-dashed-wrapped\"><div class=\"sk-label-container\"><div class=\"sk-label sk-toggleable\"><input class=\"sk-toggleable__control sk-hidden--visually\" id=\"sk-estimator-id-30\" type=\"checkbox\" ><label for=\"sk-estimator-id-30\" class=\"sk-toggleable__label sk-toggleable__label-arrow\">Pipeline</label><div class=\"sk-toggleable__content\"><pre>Pipeline(steps=[(&#x27;preprocessor&#x27;,\n",
       "                 ColumnTransformer(transformers=[(&#x27;numerical&#x27;,\n",
       "                                                  Pipeline(steps=[(&#x27;imputer&#x27;,\n",
       "                                                                   SimpleImputer()),\n",
       "                                                                  (&#x27;scaler&#x27;,\n",
       "                                                                   StandardScaler(with_mean=False))]),\n",
       "                                                  Index([&#x27;age&#x27;, &#x27;fnlwgt&#x27;, &#x27;education_num&#x27;, &#x27;capital_gain&#x27;, &#x27;capital_loss&#x27;,\n",
       "       &#x27;hours_per_week&#x27;],\n",
       "      dtype=&#x27;object&#x27;)),\n",
       "                                                 (&#x27;categorical&#x27;,\n",
       "                                                  Pipeline(steps=[(&#x27;imputer&#x27;,\n",
       "                                                                   SimpleImputer(strategy=&#x27;most_frequent&#x27;)),\n",
       "                                                                  (&#x27;onehot&#x27;,\n",
       "                                                                   OneHotEncoder(handle_unknown=&#x27;ignore&#x27;,\n",
       "                                                                                 sparse=True))]),\n",
       "                                                  Index([&#x27;workclass&#x27;, &#x27;education&#x27;, &#x27;marital_status&#x27;, &#x27;occupation&#x27;,\n",
       "       &#x27;relationship&#x27;, &#x27;race&#x27;, &#x27;sex&#x27;, &#x27;native_country&#x27;],\n",
       "      dtype=&#x27;object&#x27;))])),\n",
       "                (&#x27;classifier&#x27;, RandomForestClassifier(random_state=120))])</pre></div></div></div><div class=\"sk-serial\"><div class=\"sk-item sk-dashed-wrapped\"><div class=\"sk-label-container\"><div class=\"sk-label sk-toggleable\"><input class=\"sk-toggleable__control sk-hidden--visually\" id=\"sk-estimator-id-31\" type=\"checkbox\" ><label for=\"sk-estimator-id-31\" class=\"sk-toggleable__label sk-toggleable__label-arrow\">preprocessor: ColumnTransformer</label><div class=\"sk-toggleable__content\"><pre>ColumnTransformer(transformers=[(&#x27;numerical&#x27;,\n",
       "                                 Pipeline(steps=[(&#x27;imputer&#x27;, SimpleImputer()),\n",
       "                                                 (&#x27;scaler&#x27;,\n",
       "                                                  StandardScaler(with_mean=False))]),\n",
       "                                 Index([&#x27;age&#x27;, &#x27;fnlwgt&#x27;, &#x27;education_num&#x27;, &#x27;capital_gain&#x27;, &#x27;capital_loss&#x27;,\n",
       "       &#x27;hours_per_week&#x27;],\n",
       "      dtype=&#x27;object&#x27;)),\n",
       "                                (&#x27;categorical&#x27;,\n",
       "                                 Pipeline(steps=[(&#x27;imputer&#x27;,\n",
       "                                                  SimpleImputer(strategy=&#x27;most_frequent&#x27;)),\n",
       "                                                 (&#x27;onehot&#x27;,\n",
       "                                                  OneHotEncoder(handle_unknown=&#x27;ignore&#x27;,\n",
       "                                                                sparse=True))]),\n",
       "                                 Index([&#x27;workclass&#x27;, &#x27;education&#x27;, &#x27;marital_status&#x27;, &#x27;occupation&#x27;,\n",
       "       &#x27;relationship&#x27;, &#x27;race&#x27;, &#x27;sex&#x27;, &#x27;native_country&#x27;],\n",
       "      dtype=&#x27;object&#x27;))])</pre></div></div></div><div class=\"sk-parallel\"><div class=\"sk-parallel-item\"><div class=\"sk-item\"><div class=\"sk-label-container\"><div class=\"sk-label sk-toggleable\"><input class=\"sk-toggleable__control sk-hidden--visually\" id=\"sk-estimator-id-32\" type=\"checkbox\" ><label for=\"sk-estimator-id-32\" class=\"sk-toggleable__label sk-toggleable__label-arrow\">numerical</label><div class=\"sk-toggleable__content\"><pre>Index([&#x27;age&#x27;, &#x27;fnlwgt&#x27;, &#x27;education_num&#x27;, &#x27;capital_gain&#x27;, &#x27;capital_loss&#x27;,\n",
       "       &#x27;hours_per_week&#x27;],\n",
       "      dtype=&#x27;object&#x27;)</pre></div></div></div><div class=\"sk-serial\"><div class=\"sk-item\"><div class=\"sk-serial\"><div class=\"sk-item\"><div class=\"sk-estimator sk-toggleable\"><input class=\"sk-toggleable__control sk-hidden--visually\" id=\"sk-estimator-id-33\" type=\"checkbox\" ><label for=\"sk-estimator-id-33\" class=\"sk-toggleable__label sk-toggleable__label-arrow\">SimpleImputer</label><div class=\"sk-toggleable__content\"><pre>SimpleImputer()</pre></div></div></div><div class=\"sk-item\"><div class=\"sk-estimator sk-toggleable\"><input class=\"sk-toggleable__control sk-hidden--visually\" id=\"sk-estimator-id-34\" type=\"checkbox\" ><label for=\"sk-estimator-id-34\" class=\"sk-toggleable__label sk-toggleable__label-arrow\">StandardScaler</label><div class=\"sk-toggleable__content\"><pre>StandardScaler(with_mean=False)</pre></div></div></div></div></div></div></div></div><div class=\"sk-parallel-item\"><div class=\"sk-item\"><div class=\"sk-label-container\"><div class=\"sk-label sk-toggleable\"><input class=\"sk-toggleable__control sk-hidden--visually\" id=\"sk-estimator-id-35\" type=\"checkbox\" ><label for=\"sk-estimator-id-35\" class=\"sk-toggleable__label sk-toggleable__label-arrow\">categorical</label><div class=\"sk-toggleable__content\"><pre>Index([&#x27;workclass&#x27;, &#x27;education&#x27;, &#x27;marital_status&#x27;, &#x27;occupation&#x27;,\n",
       "       &#x27;relationship&#x27;, &#x27;race&#x27;, &#x27;sex&#x27;, &#x27;native_country&#x27;],\n",
       "      dtype=&#x27;object&#x27;)</pre></div></div></div><div class=\"sk-serial\"><div class=\"sk-item\"><div class=\"sk-serial\"><div class=\"sk-item\"><div class=\"sk-estimator sk-toggleable\"><input class=\"sk-toggleable__control sk-hidden--visually\" id=\"sk-estimator-id-36\" type=\"checkbox\" ><label for=\"sk-estimator-id-36\" class=\"sk-toggleable__label sk-toggleable__label-arrow\">SimpleImputer</label><div class=\"sk-toggleable__content\"><pre>SimpleImputer(strategy=&#x27;most_frequent&#x27;)</pre></div></div></div><div class=\"sk-item\"><div class=\"sk-estimator sk-toggleable\"><input class=\"sk-toggleable__control sk-hidden--visually\" id=\"sk-estimator-id-37\" type=\"checkbox\" ><label for=\"sk-estimator-id-37\" class=\"sk-toggleable__label sk-toggleable__label-arrow\">OneHotEncoder</label><div class=\"sk-toggleable__content\"><pre>OneHotEncoder(handle_unknown=&#x27;ignore&#x27;, sparse=True)</pre></div></div></div></div></div></div></div></div></div></div><div class=\"sk-item\"><div class=\"sk-estimator sk-toggleable\"><input class=\"sk-toggleable__control sk-hidden--visually\" id=\"sk-estimator-id-38\" type=\"checkbox\" ><label for=\"sk-estimator-id-38\" class=\"sk-toggleable__label sk-toggleable__label-arrow\">RandomForestClassifier</label><div class=\"sk-toggleable__content\"><pre>RandomForestClassifier(random_state=120)</pre></div></div></div></div></div></div></div>"
      ],
      "text/plain": [
       "Pipeline(steps=[('preprocessor',\n",
       "                 ColumnTransformer(transformers=[('numerical',\n",
       "                                                  Pipeline(steps=[('imputer',\n",
       "                                                                   SimpleImputer()),\n",
       "                                                                  ('scaler',\n",
       "                                                                   StandardScaler(with_mean=False))]),\n",
       "                                                  Index(['age', 'fnlwgt', 'education_num', 'capital_gain', 'capital_loss',\n",
       "       'hours_per_week'],\n",
       "      dtype='object')),\n",
       "                                                 ('categorical',\n",
       "                                                  Pipeline(steps=[('imputer',\n",
       "                                                                   SimpleImputer(strategy='most_frequent')),\n",
       "                                                                  ('onehot',\n",
       "                                                                   OneHotEncoder(handle_unknown='ignore',\n",
       "                                                                                 sparse=True))]),\n",
       "                                                  Index(['workclass', 'education', 'marital_status', 'occupation',\n",
       "       'relationship', 'race', 'sex', 'native_country'],\n",
       "      dtype='object'))])),\n",
       "                ('classifier', RandomForestClassifier(random_state=120))])"
      ]
     },
     "execution_count": 87,
     "metadata": {},
     "output_type": "execute_result"
    }
   ],
   "source": [
    "rf_modeling_pipeline.fit(X_sample, y_sample)"
   ]
  },
  {
   "cell_type": "code",
   "execution_count": 89,
   "id": "7c923ba6",
   "metadata": {},
   "outputs": [
    {
     "name": "stdout",
     "output_type": "stream",
     "text": [
      "Accuracy of random forest is:  99.995\n"
     ]
    }
   ],
   "source": [
    "y_train_pred = rf_modeling_pipeline.predict(X_sample)\n",
    "\n",
    "from sklearn.metrics import accuracy_score\n",
    "\n",
    "rf_train_accuracy = accuracy_score(y_sample,y_train_pred)\n",
    "\n",
    "print(\"Accuracy of random forest is: \",rf_train_accuracy*100)"
   ]
  },
  {
   "cell_type": "code",
   "execution_count": 90,
   "id": "df256e3f",
   "metadata": {},
   "outputs": [
    {
     "name": "stdout",
     "output_type": "stream",
     "text": [
      "              precision    recall  f1-score   support\n",
      "\n",
      "           0       1.00      1.00      1.00     76223\n",
      "           1       1.00      1.00      1.00     23777\n",
      "\n",
      "    accuracy                           1.00    100000\n",
      "   macro avg       1.00      1.00      1.00    100000\n",
      "weighted avg       1.00      1.00      1.00    100000\n",
      "\n"
     ]
    }
   ],
   "source": [
    "report = classification_report(y_sample, y_train_pred)\n",
    "print(report)"
   ]
  },
  {
   "cell_type": "code",
   "execution_count": 91,
   "id": "df45357f",
   "metadata": {},
   "outputs": [
    {
     "name": "stdout",
     "output_type": "stream",
     "text": [
      "Accuracy of random forest is:  73.29333333333334\n"
     ]
    }
   ],
   "source": [
    "y_test_pred = rf_modeling_pipeline.predict(X_test)\n",
    "\n",
    "from sklearn.metrics import accuracy_score\n",
    "\n",
    "rf_test_accuracy = accuracy_score(y_test,y_test_pred)\n",
    "\n",
    "print(\"Accuracy of random forest is: \",rf_test_accuracy*100)"
   ]
  },
  {
   "cell_type": "code",
   "execution_count": 92,
   "id": "b1569d04",
   "metadata": {},
   "outputs": [
    {
     "name": "stdout",
     "output_type": "stream",
     "text": [
      "              precision    recall  f1-score   support\n",
      "\n",
      "           0       0.83      0.82      0.82     22890\n",
      "           1       0.44      0.44      0.44      7110\n",
      "\n",
      "    accuracy                           0.73     30000\n",
      "   macro avg       0.63      0.63      0.63     30000\n",
      "weighted avg       0.73      0.73      0.73     30000\n",
      "\n"
     ]
    }
   ],
   "source": [
    "report = classification_report(y_test, y_test_pred)\n",
    "print(report)"
   ]
  },
  {
   "cell_type": "code",
   "execution_count": null,
   "id": "b1f8798a",
   "metadata": {},
   "outputs": [],
   "source": []
  },
  {
   "cell_type": "markdown",
   "id": "d167f562",
   "metadata": {},
   "source": [
    "# Implementing Decision Tree Classifier"
   ]
  },
  {
   "cell_type": "code",
   "execution_count": 93,
   "id": "fcb98e23",
   "metadata": {},
   "outputs": [],
   "source": [
    "from sklearn.tree import DecisionTreeClassifier\n",
    "\n",
    "dt_modeling_pipeline = Pipeline([\n",
    "    ('preprocessor', preprocessor),\n",
    "    ('dt', DecisionTreeClassifier())  # decision tree classifier\n",
    "])"
   ]
  },
  {
   "cell_type": "code",
   "execution_count": 94,
   "id": "ce329af9",
   "metadata": {},
   "outputs": [
    {
     "data": {
      "text/html": [
       "<style>#sk-container-id-5 {color: black;background-color: white;}#sk-container-id-5 pre{padding: 0;}#sk-container-id-5 div.sk-toggleable {background-color: white;}#sk-container-id-5 label.sk-toggleable__label {cursor: pointer;display: block;width: 100%;margin-bottom: 0;padding: 0.3em;box-sizing: border-box;text-align: center;}#sk-container-id-5 label.sk-toggleable__label-arrow:before {content: \"▸\";float: left;margin-right: 0.25em;color: #696969;}#sk-container-id-5 label.sk-toggleable__label-arrow:hover:before {color: black;}#sk-container-id-5 div.sk-estimator:hover label.sk-toggleable__label-arrow:before {color: black;}#sk-container-id-5 div.sk-toggleable__content {max-height: 0;max-width: 0;overflow: hidden;text-align: left;background-color: #f0f8ff;}#sk-container-id-5 div.sk-toggleable__content pre {margin: 0.2em;color: black;border-radius: 0.25em;background-color: #f0f8ff;}#sk-container-id-5 input.sk-toggleable__control:checked~div.sk-toggleable__content {max-height: 200px;max-width: 100%;overflow: auto;}#sk-container-id-5 input.sk-toggleable__control:checked~label.sk-toggleable__label-arrow:before {content: \"▾\";}#sk-container-id-5 div.sk-estimator input.sk-toggleable__control:checked~label.sk-toggleable__label {background-color: #d4ebff;}#sk-container-id-5 div.sk-label input.sk-toggleable__control:checked~label.sk-toggleable__label {background-color: #d4ebff;}#sk-container-id-5 input.sk-hidden--visually {border: 0;clip: rect(1px 1px 1px 1px);clip: rect(1px, 1px, 1px, 1px);height: 1px;margin: -1px;overflow: hidden;padding: 0;position: absolute;width: 1px;}#sk-container-id-5 div.sk-estimator {font-family: monospace;background-color: #f0f8ff;border: 1px dotted black;border-radius: 0.25em;box-sizing: border-box;margin-bottom: 0.5em;}#sk-container-id-5 div.sk-estimator:hover {background-color: #d4ebff;}#sk-container-id-5 div.sk-parallel-item::after {content: \"\";width: 100%;border-bottom: 1px solid gray;flex-grow: 1;}#sk-container-id-5 div.sk-label:hover label.sk-toggleable__label {background-color: #d4ebff;}#sk-container-id-5 div.sk-serial::before {content: \"\";position: absolute;border-left: 1px solid gray;box-sizing: border-box;top: 0;bottom: 0;left: 50%;z-index: 0;}#sk-container-id-5 div.sk-serial {display: flex;flex-direction: column;align-items: center;background-color: white;padding-right: 0.2em;padding-left: 0.2em;position: relative;}#sk-container-id-5 div.sk-item {position: relative;z-index: 1;}#sk-container-id-5 div.sk-parallel {display: flex;align-items: stretch;justify-content: center;background-color: white;position: relative;}#sk-container-id-5 div.sk-item::before, #sk-container-id-5 div.sk-parallel-item::before {content: \"\";position: absolute;border-left: 1px solid gray;box-sizing: border-box;top: 0;bottom: 0;left: 50%;z-index: -1;}#sk-container-id-5 div.sk-parallel-item {display: flex;flex-direction: column;z-index: 1;position: relative;background-color: white;}#sk-container-id-5 div.sk-parallel-item:first-child::after {align-self: flex-end;width: 50%;}#sk-container-id-5 div.sk-parallel-item:last-child::after {align-self: flex-start;width: 50%;}#sk-container-id-5 div.sk-parallel-item:only-child::after {width: 0;}#sk-container-id-5 div.sk-dashed-wrapped {border: 1px dashed gray;margin: 0 0.4em 0.5em 0.4em;box-sizing: border-box;padding-bottom: 0.4em;background-color: white;}#sk-container-id-5 div.sk-label label {font-family: monospace;font-weight: bold;display: inline-block;line-height: 1.2em;}#sk-container-id-5 div.sk-label-container {text-align: center;}#sk-container-id-5 div.sk-container {/* jupyter's `normalize.less` sets `[hidden] { display: none; }` but bootstrap.min.css set `[hidden] { display: none !important; }` so we also need the `!important` here to be able to override the default hidden behavior on the sphinx rendered scikit-learn.org. See: https://github.com/scikit-learn/scikit-learn/issues/21755 */display: inline-block !important;position: relative;}#sk-container-id-5 div.sk-text-repr-fallback {display: none;}</style><div id=\"sk-container-id-5\" class=\"sk-top-container\"><div class=\"sk-text-repr-fallback\"><pre>Pipeline(steps=[(&#x27;preprocessor&#x27;,\n",
       "                 ColumnTransformer(transformers=[(&#x27;numerical&#x27;,\n",
       "                                                  Pipeline(steps=[(&#x27;imputer&#x27;,\n",
       "                                                                   SimpleImputer()),\n",
       "                                                                  (&#x27;scaler&#x27;,\n",
       "                                                                   StandardScaler(with_mean=False))]),\n",
       "                                                  Index([&#x27;age&#x27;, &#x27;fnlwgt&#x27;, &#x27;education_num&#x27;, &#x27;capital_gain&#x27;, &#x27;capital_loss&#x27;,\n",
       "       &#x27;hours_per_week&#x27;],\n",
       "      dtype=&#x27;object&#x27;)),\n",
       "                                                 (&#x27;categorical&#x27;,\n",
       "                                                  Pipeline(steps=[(&#x27;imputer&#x27;,\n",
       "                                                                   SimpleImputer(strategy=&#x27;most_frequent&#x27;)),\n",
       "                                                                  (&#x27;onehot&#x27;,\n",
       "                                                                   OneHotEncoder(handle_unknown=&#x27;ignore&#x27;,\n",
       "                                                                                 sparse=True))]),\n",
       "                                                  Index([&#x27;workclass&#x27;, &#x27;education&#x27;, &#x27;marital_status&#x27;, &#x27;occupation&#x27;,\n",
       "       &#x27;relationship&#x27;, &#x27;race&#x27;, &#x27;sex&#x27;, &#x27;native_country&#x27;],\n",
       "      dtype=&#x27;object&#x27;))])),\n",
       "                (&#x27;dt&#x27;, DecisionTreeClassifier())])</pre><b>In a Jupyter environment, please rerun this cell to show the HTML representation or trust the notebook. <br />On GitHub, the HTML representation is unable to render, please try loading this page with nbviewer.org.</b></div><div class=\"sk-container\" hidden><div class=\"sk-item sk-dashed-wrapped\"><div class=\"sk-label-container\"><div class=\"sk-label sk-toggleable\"><input class=\"sk-toggleable__control sk-hidden--visually\" id=\"sk-estimator-id-39\" type=\"checkbox\" ><label for=\"sk-estimator-id-39\" class=\"sk-toggleable__label sk-toggleable__label-arrow\">Pipeline</label><div class=\"sk-toggleable__content\"><pre>Pipeline(steps=[(&#x27;preprocessor&#x27;,\n",
       "                 ColumnTransformer(transformers=[(&#x27;numerical&#x27;,\n",
       "                                                  Pipeline(steps=[(&#x27;imputer&#x27;,\n",
       "                                                                   SimpleImputer()),\n",
       "                                                                  (&#x27;scaler&#x27;,\n",
       "                                                                   StandardScaler(with_mean=False))]),\n",
       "                                                  Index([&#x27;age&#x27;, &#x27;fnlwgt&#x27;, &#x27;education_num&#x27;, &#x27;capital_gain&#x27;, &#x27;capital_loss&#x27;,\n",
       "       &#x27;hours_per_week&#x27;],\n",
       "      dtype=&#x27;object&#x27;)),\n",
       "                                                 (&#x27;categorical&#x27;,\n",
       "                                                  Pipeline(steps=[(&#x27;imputer&#x27;,\n",
       "                                                                   SimpleImputer(strategy=&#x27;most_frequent&#x27;)),\n",
       "                                                                  (&#x27;onehot&#x27;,\n",
       "                                                                   OneHotEncoder(handle_unknown=&#x27;ignore&#x27;,\n",
       "                                                                                 sparse=True))]),\n",
       "                                                  Index([&#x27;workclass&#x27;, &#x27;education&#x27;, &#x27;marital_status&#x27;, &#x27;occupation&#x27;,\n",
       "       &#x27;relationship&#x27;, &#x27;race&#x27;, &#x27;sex&#x27;, &#x27;native_country&#x27;],\n",
       "      dtype=&#x27;object&#x27;))])),\n",
       "                (&#x27;dt&#x27;, DecisionTreeClassifier())])</pre></div></div></div><div class=\"sk-serial\"><div class=\"sk-item sk-dashed-wrapped\"><div class=\"sk-label-container\"><div class=\"sk-label sk-toggleable\"><input class=\"sk-toggleable__control sk-hidden--visually\" id=\"sk-estimator-id-40\" type=\"checkbox\" ><label for=\"sk-estimator-id-40\" class=\"sk-toggleable__label sk-toggleable__label-arrow\">preprocessor: ColumnTransformer</label><div class=\"sk-toggleable__content\"><pre>ColumnTransformer(transformers=[(&#x27;numerical&#x27;,\n",
       "                                 Pipeline(steps=[(&#x27;imputer&#x27;, SimpleImputer()),\n",
       "                                                 (&#x27;scaler&#x27;,\n",
       "                                                  StandardScaler(with_mean=False))]),\n",
       "                                 Index([&#x27;age&#x27;, &#x27;fnlwgt&#x27;, &#x27;education_num&#x27;, &#x27;capital_gain&#x27;, &#x27;capital_loss&#x27;,\n",
       "       &#x27;hours_per_week&#x27;],\n",
       "      dtype=&#x27;object&#x27;)),\n",
       "                                (&#x27;categorical&#x27;,\n",
       "                                 Pipeline(steps=[(&#x27;imputer&#x27;,\n",
       "                                                  SimpleImputer(strategy=&#x27;most_frequent&#x27;)),\n",
       "                                                 (&#x27;onehot&#x27;,\n",
       "                                                  OneHotEncoder(handle_unknown=&#x27;ignore&#x27;,\n",
       "                                                                sparse=True))]),\n",
       "                                 Index([&#x27;workclass&#x27;, &#x27;education&#x27;, &#x27;marital_status&#x27;, &#x27;occupation&#x27;,\n",
       "       &#x27;relationship&#x27;, &#x27;race&#x27;, &#x27;sex&#x27;, &#x27;native_country&#x27;],\n",
       "      dtype=&#x27;object&#x27;))])</pre></div></div></div><div class=\"sk-parallel\"><div class=\"sk-parallel-item\"><div class=\"sk-item\"><div class=\"sk-label-container\"><div class=\"sk-label sk-toggleable\"><input class=\"sk-toggleable__control sk-hidden--visually\" id=\"sk-estimator-id-41\" type=\"checkbox\" ><label for=\"sk-estimator-id-41\" class=\"sk-toggleable__label sk-toggleable__label-arrow\">numerical</label><div class=\"sk-toggleable__content\"><pre>Index([&#x27;age&#x27;, &#x27;fnlwgt&#x27;, &#x27;education_num&#x27;, &#x27;capital_gain&#x27;, &#x27;capital_loss&#x27;,\n",
       "       &#x27;hours_per_week&#x27;],\n",
       "      dtype=&#x27;object&#x27;)</pre></div></div></div><div class=\"sk-serial\"><div class=\"sk-item\"><div class=\"sk-serial\"><div class=\"sk-item\"><div class=\"sk-estimator sk-toggleable\"><input class=\"sk-toggleable__control sk-hidden--visually\" id=\"sk-estimator-id-42\" type=\"checkbox\" ><label for=\"sk-estimator-id-42\" class=\"sk-toggleable__label sk-toggleable__label-arrow\">SimpleImputer</label><div class=\"sk-toggleable__content\"><pre>SimpleImputer()</pre></div></div></div><div class=\"sk-item\"><div class=\"sk-estimator sk-toggleable\"><input class=\"sk-toggleable__control sk-hidden--visually\" id=\"sk-estimator-id-43\" type=\"checkbox\" ><label for=\"sk-estimator-id-43\" class=\"sk-toggleable__label sk-toggleable__label-arrow\">StandardScaler</label><div class=\"sk-toggleable__content\"><pre>StandardScaler(with_mean=False)</pre></div></div></div></div></div></div></div></div><div class=\"sk-parallel-item\"><div class=\"sk-item\"><div class=\"sk-label-container\"><div class=\"sk-label sk-toggleable\"><input class=\"sk-toggleable__control sk-hidden--visually\" id=\"sk-estimator-id-44\" type=\"checkbox\" ><label for=\"sk-estimator-id-44\" class=\"sk-toggleable__label sk-toggleable__label-arrow\">categorical</label><div class=\"sk-toggleable__content\"><pre>Index([&#x27;workclass&#x27;, &#x27;education&#x27;, &#x27;marital_status&#x27;, &#x27;occupation&#x27;,\n",
       "       &#x27;relationship&#x27;, &#x27;race&#x27;, &#x27;sex&#x27;, &#x27;native_country&#x27;],\n",
       "      dtype=&#x27;object&#x27;)</pre></div></div></div><div class=\"sk-serial\"><div class=\"sk-item\"><div class=\"sk-serial\"><div class=\"sk-item\"><div class=\"sk-estimator sk-toggleable\"><input class=\"sk-toggleable__control sk-hidden--visually\" id=\"sk-estimator-id-45\" type=\"checkbox\" ><label for=\"sk-estimator-id-45\" class=\"sk-toggleable__label sk-toggleable__label-arrow\">SimpleImputer</label><div class=\"sk-toggleable__content\"><pre>SimpleImputer(strategy=&#x27;most_frequent&#x27;)</pre></div></div></div><div class=\"sk-item\"><div class=\"sk-estimator sk-toggleable\"><input class=\"sk-toggleable__control sk-hidden--visually\" id=\"sk-estimator-id-46\" type=\"checkbox\" ><label for=\"sk-estimator-id-46\" class=\"sk-toggleable__label sk-toggleable__label-arrow\">OneHotEncoder</label><div class=\"sk-toggleable__content\"><pre>OneHotEncoder(handle_unknown=&#x27;ignore&#x27;, sparse=True)</pre></div></div></div></div></div></div></div></div></div></div><div class=\"sk-item\"><div class=\"sk-estimator sk-toggleable\"><input class=\"sk-toggleable__control sk-hidden--visually\" id=\"sk-estimator-id-47\" type=\"checkbox\" ><label for=\"sk-estimator-id-47\" class=\"sk-toggleable__label sk-toggleable__label-arrow\">DecisionTreeClassifier</label><div class=\"sk-toggleable__content\"><pre>DecisionTreeClassifier()</pre></div></div></div></div></div></div></div>"
      ],
      "text/plain": [
       "Pipeline(steps=[('preprocessor',\n",
       "                 ColumnTransformer(transformers=[('numerical',\n",
       "                                                  Pipeline(steps=[('imputer',\n",
       "                                                                   SimpleImputer()),\n",
       "                                                                  ('scaler',\n",
       "                                                                   StandardScaler(with_mean=False))]),\n",
       "                                                  Index(['age', 'fnlwgt', 'education_num', 'capital_gain', 'capital_loss',\n",
       "       'hours_per_week'],\n",
       "      dtype='object')),\n",
       "                                                 ('categorical',\n",
       "                                                  Pipeline(steps=[('imputer',\n",
       "                                                                   SimpleImputer(strategy='most_frequent')),\n",
       "                                                                  ('onehot',\n",
       "                                                                   OneHotEncoder(handle_unknown='ignore',\n",
       "                                                                                 sparse=True))]),\n",
       "                                                  Index(['workclass', 'education', 'marital_status', 'occupation',\n",
       "       'relationship', 'race', 'sex', 'native_country'],\n",
       "      dtype='object'))])),\n",
       "                ('dt', DecisionTreeClassifier())])"
      ]
     },
     "execution_count": 94,
     "metadata": {},
     "output_type": "execute_result"
    }
   ],
   "source": [
    "dt_modeling_pipeline.fit(X_sample, y_sample)"
   ]
  },
  {
   "cell_type": "code",
   "execution_count": 96,
   "id": "60319b45",
   "metadata": {},
   "outputs": [
    {
     "name": "stdout",
     "output_type": "stream",
     "text": [
      "[[76223     0]\n",
      " [    5 23772]]\n"
     ]
    }
   ],
   "source": [
    "from sklearn.metrics import confusion_matrix\n",
    "\n",
    "y_train_pred = dt_modeling_pipeline.predict(X_sample)\n",
    "\n",
    "print(confusion_matrix(y_sample, y_train_pred))"
   ]
  },
  {
   "cell_type": "code",
   "execution_count": 98,
   "id": "d656d559",
   "metadata": {},
   "outputs": [
    {
     "name": "stdout",
     "output_type": "stream",
     "text": [
      "Accuracy of decision tree is:  99.995\n"
     ]
    }
   ],
   "source": [
    "from sklearn.metrics import accuracy_score\n",
    "\n",
    "dt_train_accuracy = accuracy_score(y_sample,y_train_pred)\n",
    "\n",
    "print(\"Accuracy of decision tree is: \",dt_train_accuracy*100)"
   ]
  },
  {
   "cell_type": "code",
   "execution_count": 99,
   "id": "d4c5f9f6",
   "metadata": {},
   "outputs": [
    {
     "name": "stdout",
     "output_type": "stream",
     "text": [
      "[[18847  4043]\n",
      " [ 3984  3126]]\n"
     ]
    }
   ],
   "source": [
    "from sklearn.metrics import confusion_matrix\n",
    "\n",
    "y_test_pred = dt_modeling_pipeline.predict(X_test)\n",
    "\n",
    "print(confusion_matrix(y_test, y_test_pred))"
   ]
  },
  {
   "cell_type": "code",
   "execution_count": 100,
   "id": "5ee9868f",
   "metadata": {},
   "outputs": [
    {
     "name": "stdout",
     "output_type": "stream",
     "text": [
      "Accuracy of decision tree is:  73.24333333333334\n"
     ]
    }
   ],
   "source": [
    "from sklearn.metrics import accuracy_score\n",
    "\n",
    "dt_test_accuracy = accuracy_score(y_test,y_test_pred)\n",
    "\n",
    "print(\"Accuracy of decision tree is: \",dt_test_accuracy*100)"
   ]
  },
  {
   "cell_type": "markdown",
   "id": "ee524da4",
   "metadata": {},
   "source": [
    "# CONCLUSION"
   ]
  },
  {
   "cell_type": "markdown",
   "id": "5222af5d",
   "metadata": {},
   "source": [
    "**In this project, we have done the following:-**\n",
    "\n",
    "**EXPLORATORY DATA ANALYSIS**\n",
    "- Import the required libraries.\n",
    "- Reading the dataset.\n",
    "- View the head of the dataset.\n",
    "- View the shape of the dataset (5000000 rows and 14 columns).\n",
    "- View th columns of the dataset.\n",
    "- View the data types of the dataset.\n",
    "- View the information and description of dataset.\n",
    "- Get the sum of missing values in the dataset.\n",
    "- Calculate the correlation and plotted the heatmap.\n",
    "- Read the dataset (final_train_y_dont_use) to visualize.\n",
    "- Get the data types of the dataset.\n",
    "- Combine the initial dataset with features and also target.\n",
    "- Get the head of the dataset.\n",
    "- Plot the target column distribution.\n",
    "- Get the column names.\n",
    "\n",
    "**VISUALIZATION**\n",
    "- Get the distribution of age column.\n",
    "- Countplot of education by target (class) column.\n",
    "- Scatterplot between capital_gain and capital_loss.\n",
    "- Countplot of marital_status by target (class) column.\n",
    "- Boxplot between class and hours_per_week.\n",
    "- Countplot of sex by target (class) column.\n",
    "- Countplot of race by target (class) column.\n",
    "- Countplot of workclass by target (class) column.\n",
    "- Countplot of occupation by target (class) column.\n",
    "- Countplot of relationship by target (class) column.\n",
    "- Countplot of native_country by target column.\n",
    "\n",
    "**Calculate the correlation of features with the target (class) column and also plotted the heatmap for the correlation.**\n",
    "\n",
    "**PREPROCESSING**\n",
    "- Import the required libraries.\n",
    "- Divide final_X_train into numerical and categorical features.\n",
    "- Create a preprocessor pipeline\n",
    "    - Numerical (SimpleImputer - with mean, StandardScaler - scaling numerical columns)\n",
    "    - Categorical (SimpleImputer - most_frequent, OneHotEncoder - represents categorical columns as binary vectors)\n",
    "- Fit and transform the preprocessor pipelines for X_train\n",
    "- Plot the elbow curve to find the optimal number of clusters (9)\n",
    "- Fit the k-means clustering for optimal clusters.\n",
    "- Fit and predict for X_train to get the cluster labels which will be considered as the output.\n",
    "- Assign cluster labels to y_train.\n",
    "- Read the test dataset which has test features.\n",
    "- View the head of the testing dataset.\n",
    "- Read the target column test dataset.\n",
    "- View the head of target column test dataset.\n",
    "- Transform the X_test using preprocessor.\n",
    "- Get the cluster_labels by predicting for the preprocessed X_test.\n",
    "- Assign the cluster_labels to y_test.\n",
    "- View the head of the dataset.\n",
    "\n",
    "**MODELING**\n",
    "- Implemented logistic regression\n",
    "    - Evaluated for training and testing.\n",
    "- Performed cross-validation (97 for 5 folds).\n",
    "- Implemented logistic regression with k-means\n",
    "    - Evaluated for training and testing\n",
    "- Implemented Hyperparameter tuning for logistic regression\n",
    "    - Evaluated for training and testing\n",
    "- Implemented Random Forest\n",
    "    - Evaluated for training and testing\n",
    "- Implemented Decision Tree\n",
    "    - Evaluated for training and testing\n",
    "\n",
    "**In conclusion, I can say that first I have found the cluster labels and taken the value counts of the labels and then taken the maximum value from that and divided it by 3 to divide the cluster labels into target column (0 {<50000} and 1 {>50000}).**"
   ]
  },
  {
   "cell_type": "code",
   "execution_count": null,
   "id": "604f2e31",
   "metadata": {},
   "outputs": [],
   "source": []
  }
 ],
 "metadata": {
  "kernelspec": {
   "display_name": "Python 3",
   "language": "python",
   "name": "python3"
  },
  "language_info": {
   "codemirror_mode": {
    "name": "ipython",
    "version": 3
   },
   "file_extension": ".py",
   "mimetype": "text/x-python",
   "name": "python",
   "nbconvert_exporter": "python",
   "pygments_lexer": "ipython3",
   "version": "3.8.8"
  }
 },
 "nbformat": 4,
 "nbformat_minor": 5
}
